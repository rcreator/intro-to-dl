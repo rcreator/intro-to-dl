{
  "nbformat": 4,
  "nbformat_minor": 0,
  "metadata": {
    "kernelspec": {
      "display_name": "Python 3",
      "language": "python",
      "name": "python3"
    },
    "language_info": {
      "codemirror_mode": {
        "name": "ipython",
        "version": 3
      },
      "file_extension": ".py",
      "mimetype": "text/x-python",
      "name": "python",
      "nbconvert_exporter": "python",
      "pygments_lexer": "ipython3",
      "version": "3.6.5"
    },
    "colab": {
      "name": "intro_to_tensorflow.ipynb",
      "provenance": []
    }
  },
  "cells": [
    {
      "cell_type": "code",
      "metadata": {
        "id": "bk-T8uqaRQC8",
        "outputId": "e2044dea-0d19-425c-d244-c94a40c501f7",
        "colab": {
          "base_uri": "https://localhost:8080/"
        }
      },
      "source": [
        "# set tf 1.x for colab\n",
        "%tensorflow_version 1.x"
      ],
      "execution_count": 1,
      "outputs": [
        {
          "output_type": "stream",
          "text": [
            "TensorFlow 1.x selected.\n"
          ],
          "name": "stdout"
        }
      ]
    },
    {
      "cell_type": "markdown",
      "metadata": {
        "id": "zTKxxFvsRQDD"
      },
      "source": [
        "# Intro to TensorFlow\n",
        "\n",
        "This notebook covers the basics of TF and shows you an animation with gradient descent trajectory.\n",
        "<img src=\"https://github.com/rcreator/intro-to-dl/blob/master/week2/v2/images/gradient_descent.png?raw=1\" style=\"width:50%\">"
      ]
    },
    {
      "cell_type": "markdown",
      "metadata": {
        "id": "z_56ufpZRQDE"
      },
      "source": [
        "# TensorBoard"
      ]
    },
    {
      "cell_type": "markdown",
      "metadata": {
        "id": "ZTEg9vejRQDE"
      },
      "source": [
        "**Plase note that if you are running on the Coursera platform, you won't be able to access the tensorboard instance due to the network setup there.**\n",
        "\n",
        "Run `tensorboard --logdir=./tensorboard_logs --port=7007` in bash.\n",
        "\n",
        "If you run the notebook locally, you should be able to access TensorBoard on http://127.0.0.1:7007/"
      ]
    },
    {
      "cell_type": "code",
      "metadata": {
        "id": "MjRcVJqoRs-g",
        "outputId": "23de8266-43b0-4535-f4c2-a40b9fae433c",
        "colab": {
          "base_uri": "https://localhost:8080/"
        }
      },
      "source": [
        "! shred -u setup_google_colab.py\n",
        "! wget https://raw.githubusercontent.com/hse-aml/intro-to-dl/master/setup_google_colab.py -O setup_google_colab.py\n",
        "import setup_google_colab\n",
        "setup_google_colab.setup_week2()"
      ],
      "execution_count": 3,
      "outputs": [
        {
          "output_type": "stream",
          "text": [
            "shred: setup_google_colab.py: failed to open for writing: No such file or directory\n",
            "--2021-01-21 09:29:26--  https://raw.githubusercontent.com/hse-aml/intro-to-dl/master/setup_google_colab.py\n",
            "Resolving raw.githubusercontent.com (raw.githubusercontent.com)... 151.101.0.133, 151.101.64.133, 151.101.128.133, ...\n",
            "Connecting to raw.githubusercontent.com (raw.githubusercontent.com)|151.101.0.133|:443... connected.\n",
            "HTTP request sent, awaiting response... 200 OK\n",
            "Length: 3636 (3.6K) [text/plain]\n",
            "Saving to: ‘setup_google_colab.py’\n",
            "\n",
            "setup_google_colab. 100%[===================>]   3.55K  --.-KB/s    in 0s      \n",
            "\n",
            "2021-01-21 09:29:27 (43.5 MB/s) - ‘setup_google_colab.py’ saved [3636/3636]\n",
            "\n",
            "**************************************************\n",
            "inception_v3_weights_tf_dim_ordering_tf_kernels_notop.h5\n",
            "**************************************************\n",
            "cifar-10-batches-py.tar.gz\n",
            "**************************************************\n",
            "mnist.npz\n"
          ],
          "name": "stdout"
        }
      ]
    },
    {
      "cell_type": "code",
      "metadata": {
        "id": "y48HoBg2RQDF",
        "outputId": "a4b09053-2503-4587-d49a-7bc55421afa3",
        "colab": {
          "base_uri": "https://localhost:8080/"
        }
      },
      "source": [
        "import tensorflow as tf\n",
        "import sys\n",
        "sys.path.append(\"../..\")\n",
        "from keras_utils import reset_tf_session\n",
        "s = reset_tf_session()\n",
        "print(\"We're using TF\", tf.__version__)"
      ],
      "execution_count": 4,
      "outputs": [
        {
          "output_type": "stream",
          "text": [
            "WARNING:tensorflow:From /content/keras_utils.py:68: The name tf.get_default_session is deprecated. Please use tf.compat.v1.get_default_session instead.\n",
            "\n",
            "WARNING:tensorflow:From /usr/local/lib/python3.6/dist-packages/keras/backend/tensorflow_backend.py:79: The name tf.reset_default_graph is deprecated. Please use tf.compat.v1.reset_default_graph instead.\n",
            "\n",
            "WARNING:tensorflow:From /usr/local/lib/python3.6/dist-packages/keras/backend/tensorflow_backend.py:82: The name tf.placeholder is deprecated. Please use tf.compat.v1.placeholder instead.\n",
            "\n",
            "WARNING:tensorflow:From /usr/local/lib/python3.6/dist-packages/keras/backend/tensorflow_backend.py:84: The name tf.get_default_graph is deprecated. Please use tf.compat.v1.get_default_graph instead.\n",
            "\n",
            "WARNING:tensorflow:From /content/keras_utils.py:75: The name tf.ConfigProto is deprecated. Please use tf.compat.v1.ConfigProto instead.\n",
            "\n",
            "WARNING:tensorflow:From /content/keras_utils.py:77: The name tf.InteractiveSession is deprecated. Please use tf.compat.v1.InteractiveSession instead.\n",
            "\n",
            "We're using TF 1.15.2\n"
          ],
          "name": "stdout"
        },
        {
          "output_type": "stream",
          "text": [
            "Using TensorFlow backend.\n"
          ],
          "name": "stderr"
        }
      ]
    },
    {
      "cell_type": "markdown",
      "metadata": {
        "id": "2yonVkSvRQDF"
      },
      "source": [
        "# Warming up\n",
        "For starters, let's implement a python function that computes the sum of squares of numbers from 0 to N-1."
      ]
    },
    {
      "cell_type": "code",
      "metadata": {
        "id": "hJEKQkBvRQDF"
      },
      "source": [
        "import numpy as np\n",
        "\n",
        "def sum_python(N):\n",
        "    return np.sum(np.arange(N)**2)"
      ],
      "execution_count": 5,
      "outputs": []
    },
    {
      "cell_type": "code",
      "metadata": {
        "id": "lP6HIY7DRQDG",
        "outputId": "69444043-bf63-4260-e800-c9962c91970c",
        "colab": {
          "base_uri": "https://localhost:8080/"
        }
      },
      "source": [
        "%%time\n",
        "sum_python(10**5)"
      ],
      "execution_count": 6,
      "outputs": [
        {
          "output_type": "stream",
          "text": [
            "CPU times: user 1.44 ms, sys: 811 µs, total: 2.25 ms\n",
            "Wall time: 6.25 ms\n"
          ],
          "name": "stdout"
        },
        {
          "output_type": "execute_result",
          "data": {
            "text/plain": [
              "333328333350000"
            ]
          },
          "metadata": {
            "tags": []
          },
          "execution_count": 6
        }
      ]
    },
    {
      "cell_type": "markdown",
      "metadata": {
        "id": "quoPOI43RQDG"
      },
      "source": [
        "# Tensoflow teaser\n",
        "\n",
        "Doing the very same thing"
      ]
    },
    {
      "cell_type": "code",
      "metadata": {
        "id": "VLdKFKPERQDG"
      },
      "source": [
        "# An integer parameter\n",
        "N = tf.placeholder('int64', name=\"input_to_your_function\")\n",
        "\n",
        "# A recipe on how to produce the same result\n",
        "result = tf.reduce_sum(tf.range(N)**2)"
      ],
      "execution_count": 7,
      "outputs": []
    },
    {
      "cell_type": "code",
      "metadata": {
        "id": "Ftlv0tRoRQDG",
        "outputId": "d12a386a-b135-4b52-c9ab-93c0ee8ee299",
        "colab": {
          "base_uri": "https://localhost:8080/"
        }
      },
      "source": [
        "# just a graph definition\n",
        "result"
      ],
      "execution_count": 8,
      "outputs": [
        {
          "output_type": "execute_result",
          "data": {
            "text/plain": [
              "<tf.Tensor 'Sum:0' shape=() dtype=int64>"
            ]
          },
          "metadata": {
            "tags": []
          },
          "execution_count": 8
        }
      ]
    },
    {
      "cell_type": "code",
      "metadata": {
        "id": "P51-0o2XRQDH",
        "outputId": "346d44a6-0ed8-4dad-849a-e119eec935fe",
        "colab": {
          "base_uri": "https://localhost:8080/"
        }
      },
      "source": [
        "%%time\n",
        "# actually executing\n",
        "result.eval({N: 10**5})"
      ],
      "execution_count": 9,
      "outputs": [
        {
          "output_type": "stream",
          "text": [
            "CPU times: user 9.07 ms, sys: 952 µs, total: 10 ms\n",
            "Wall time: 79.2 ms\n"
          ],
          "name": "stdout"
        },
        {
          "output_type": "execute_result",
          "data": {
            "text/plain": [
              "333328333350000"
            ]
          },
          "metadata": {
            "tags": []
          },
          "execution_count": 9
        }
      ]
    },
    {
      "cell_type": "code",
      "metadata": {
        "id": "-3gE93CZRQDH"
      },
      "source": [
        "# logger for tensorboard\n",
        "writer = tf.summary.FileWriter(\"tensorboard_logs\", graph=s.graph)"
      ],
      "execution_count": 10,
      "outputs": []
    },
    {
      "cell_type": "markdown",
      "metadata": {
        "id": "kj0e1mQeRQDH"
      },
      "source": [
        "# How does it work?\n",
        "1. Define placeholders where you'll send inputs\n",
        "2. Make a symbolic graph: a recipe for mathematical transformation of those placeholders\n",
        "3. Compute outputs of your graph with particular values for each placeholder\n",
        "  * `output.eval({placeholder: value})`\n",
        "  * `s.run(output, {placeholder: value})`\n",
        "\n",
        "So far there are two main entities: \"placeholder\" and \"transformation\" (operation output)\n",
        "* Both can be numbers, vectors, matrices, tensors, etc.\n",
        "* Both can be int32/64, floats, booleans (uint8) of various size.\n",
        "\n",
        "* You can define new transformations as an arbitrary operation on placeholders and other transformations\n",
        " * `tf.reduce_sum(tf.arange(N)**2)` are 3 sequential transformations of placeholder `N`\n",
        " * There's a tensorflow symbolic version for every numpy function\n",
        "   * `a+b, a/b, a**b, ...` behave just like in numpy\n",
        "   * `np.mean` -> `tf.reduce_mean`\n",
        "   * `np.arange` -> `tf.range`\n",
        "   * `np.cumsum` -> `tf.cumsum`\n",
        "   * If you can't find the operation you need, see the [docs](https://www.tensorflow.org/versions/r1.3/api_docs/python).\n",
        "   \n",
        "`tf.contrib` has many high-level features, may be worth a look."
      ]
    },
    {
      "cell_type": "code",
      "metadata": {
        "id": "RZY5_JgCRQDI"
      },
      "source": [
        "with tf.name_scope(\"Placeholders_examples\"):\n",
        "    # Default placeholder that can be arbitrary float32\n",
        "    # scalar, vertor, matrix, etc.\n",
        "    arbitrary_input = tf.placeholder('float32')\n",
        "\n",
        "    # Input vector of arbitrary length\n",
        "    input_vector = tf.placeholder('float32', shape=(None,))\n",
        "\n",
        "    # Input vector that _must_ have 10 elements and integer type\n",
        "    fixed_vector = tf.placeholder('int32', shape=(10,))\n",
        "\n",
        "    # Matrix of arbitrary n_rows and 15 columns\n",
        "    # (e.g. a minibatch of your data table)\n",
        "    input_matrix = tf.placeholder('float32', shape=(None, 15))\n",
        "    \n",
        "    # You can generally use None whenever you don't need a specific shape\n",
        "    input1 = tf.placeholder('float64', shape=(None, 100, None))\n",
        "    input2 = tf.placeholder('int32', shape=(None, None, 3, 224, 224))\n",
        "\n",
        "    # elementwise multiplication\n",
        "    double_the_vector = input_vector*2\n",
        "\n",
        "    # elementwise cosine\n",
        "    elementwise_cosine = tf.cos(input_vector)\n",
        "\n",
        "    # difference between squared vector and vector itself plus one\n",
        "    vector_squares = input_vector**2 - input_vector + 1"
      ],
      "execution_count": 11,
      "outputs": []
    },
    {
      "cell_type": "code",
      "metadata": {
        "id": "62cD6x1IRQDI"
      },
      "source": [
        "my_vector =  tf.placeholder('float32', shape=(None,), name=\"VECTOR_1\")\n",
        "my_vector2 = tf.placeholder('float32', shape=(None,))\n",
        "my_transformation = my_vector * my_vector2 / (tf.sin(my_vector) + 1)"
      ],
      "execution_count": 12,
      "outputs": []
    },
    {
      "cell_type": "code",
      "metadata": {
        "id": "45gNPPRWRQDI",
        "outputId": "3f45b7e2-b8ca-4e4c-8d8e-fa96cf2f0690",
        "colab": {
          "base_uri": "https://localhost:8080/"
        }
      },
      "source": [
        "print(my_transformation)"
      ],
      "execution_count": 13,
      "outputs": [
        {
          "output_type": "stream",
          "text": [
            "Tensor(\"truediv:0\", shape=(?,), dtype=float32)\n"
          ],
          "name": "stdout"
        }
      ]
    },
    {
      "cell_type": "code",
      "metadata": {
        "id": "056Y-lGTRQDJ",
        "outputId": "da57344a-f8f4-4834-80f4-e353384539e7",
        "colab": {
          "base_uri": "https://localhost:8080/"
        }
      },
      "source": [
        "dummy = np.arange(5).astype('float32')\n",
        "print(dummy)\n",
        "my_transformation.eval({my_vector: dummy, my_vector2: dummy[::-1]})"
      ],
      "execution_count": 14,
      "outputs": [
        {
          "output_type": "stream",
          "text": [
            "[0. 1. 2. 3. 4.]\n"
          ],
          "name": "stdout"
        },
        {
          "output_type": "execute_result",
          "data": {
            "text/plain": [
              "array([0.       , 1.6291324, 2.0950115, 2.6289961, 0.       ],\n",
              "      dtype=float32)"
            ]
          },
          "metadata": {
            "tags": []
          },
          "execution_count": 14
        }
      ]
    },
    {
      "cell_type": "code",
      "metadata": {
        "id": "QxM345aKRQDJ"
      },
      "source": [
        "writer.add_graph(my_transformation.graph)\n",
        "writer.flush()"
      ],
      "execution_count": 15,
      "outputs": []
    },
    {
      "cell_type": "markdown",
      "metadata": {
        "id": "1QCvNTb7RQDJ"
      },
      "source": [
        "TensorBoard allows writing scalars, images, audio, histogram. You can read more on tensorboard usage [here](https://www.tensorflow.org/get_started/graph_viz)."
      ]
    },
    {
      "cell_type": "markdown",
      "metadata": {
        "id": "hboHMkSvRQDJ"
      },
      "source": [
        "# Summary\n",
        "* Tensorflow is based on computation graphs\n",
        "* A graph consists of placeholders and transformations"
      ]
    },
    {
      "cell_type": "markdown",
      "metadata": {
        "id": "SH-nhv9QRQDJ"
      },
      "source": [
        "# Loss function: Mean Squared Error\n",
        "\n",
        "Loss function must be a part of the graph as well, so that we can do backpropagation."
      ]
    },
    {
      "cell_type": "code",
      "metadata": {
        "id": "1Du9u7dvRQDK"
      },
      "source": [
        "with tf.name_scope(\"MSE\"):\n",
        "    y_true = tf.placeholder(\"float32\", shape=(None,), name=\"y_true\")\n",
        "    y_predicted = tf.placeholder(\"float32\", shape=(None,), name=\"y_predicted\")\n",
        "    # Implement MSE(y_true, y_predicted), use tf.reduce_mean(...)\n",
        "    mse = tf.reduce_mean((y_true - y_predicted) ** 2)\n",
        "\n",
        "def compute_mse(vector1, vector2):\n",
        "    return mse.eval({y_true: vector1, y_predicted: vector2})"
      ],
      "execution_count": 16,
      "outputs": []
    },
    {
      "cell_type": "code",
      "metadata": {
        "id": "YHC86olqRQDK"
      },
      "source": [
        "writer.add_graph(mse.graph)\n",
        "writer.flush()"
      ],
      "execution_count": 17,
      "outputs": []
    },
    {
      "cell_type": "code",
      "metadata": {
        "id": "vaMaN8oURQDK"
      },
      "source": [
        "# Rigorous local testing of MSE implementation\n",
        "import sklearn.metrics\n",
        "for n in [1, 5, 10, 10**3]:\n",
        "    elems = [np.arange(n), np.arange(n, 0, -1), np.zeros(n),\n",
        "             np.ones(n), np.random.random(n), np.random.randint(100, size=n)]\n",
        "    for el in elems:\n",
        "        for el_2 in elems:\n",
        "            true_mse = np.array(sklearn.metrics.mean_squared_error(el, el_2))\n",
        "            my_mse = compute_mse(el, el_2)\n",
        "            if not np.allclose(true_mse, my_mse):\n",
        "                print('mse(%s,%s)' % (el, el_2))\n",
        "                print(\"should be: %f, but your function returned %f\" % (true_mse, my_mse))\n",
        "                raise ValueError('Wrong result')"
      ],
      "execution_count": 18,
      "outputs": []
    },
    {
      "cell_type": "markdown",
      "metadata": {
        "id": "DoEFYzv0RQDK"
      },
      "source": [
        "# Variables\n",
        "\n",
        "Placeholder and transformation values are not stored in the graph once the execution is finished. This isn't too comfortable if you want your model to have parameters (e.g. network weights) that are always present, but can change their value over time.\n",
        "\n",
        "Tensorflow solves this with `tf.Variable` objects.\n",
        "* You can assign variable a value at any time in your graph\n",
        "* Unlike placeholders, there's no need to explicitly pass values to variables when `s.run(...)`-ing\n",
        "* You can use variables the same way you use transformations \n",
        " "
      ]
    },
    {
      "cell_type": "code",
      "metadata": {
        "id": "0dnrIQaWRQDK"
      },
      "source": [
        "# Creating a shared variable\n",
        "shared_vector_1 = tf.Variable(initial_value=np.ones(5),\n",
        "                              name=\"example_variable\")"
      ],
      "execution_count": 19,
      "outputs": []
    },
    {
      "cell_type": "code",
      "metadata": {
        "id": "iK0OurdqRQDL",
        "outputId": "7ed39f23-b4e1-41c5-847b-c7da3a74b294",
        "colab": {
          "base_uri": "https://localhost:8080/"
        }
      },
      "source": [
        "# Initialize variable(s) with initial values\n",
        "s.run(tf.global_variables_initializer())\n",
        "\n",
        "# Evaluating the shared variable\n",
        "print(\"Initial value\", s.run(shared_vector_1))"
      ],
      "execution_count": 20,
      "outputs": [
        {
          "output_type": "stream",
          "text": [
            "Initial value [1. 1. 1. 1. 1.]\n"
          ],
          "name": "stdout"
        }
      ]
    },
    {
      "cell_type": "code",
      "metadata": {
        "id": "kd13yAVzRQDM",
        "outputId": "e7e760f5-404a-4ae8-e087-7db1ed75c6c6",
        "colab": {
          "base_uri": "https://localhost:8080/"
        }
      },
      "source": [
        "# Setting a new value\n",
        "s.run(shared_vector_1.assign(np.arange(5)))\n",
        "\n",
        "# Getting that new value\n",
        "print(\"New value\", s.run(shared_vector_1))"
      ],
      "execution_count": 21,
      "outputs": [
        {
          "output_type": "stream",
          "text": [
            "New value [0. 1. 2. 3. 4.]\n"
          ],
          "name": "stdout"
        }
      ]
    },
    {
      "cell_type": "markdown",
      "metadata": {
        "id": "rSs8Cii7RQDM"
      },
      "source": [
        "# tf.gradients - why graphs matter\n",
        "* Tensorflow can compute derivatives and gradients automatically using the computation graph\n",
        "* True to its name it can manage matrix derivatives\n",
        "* Gradients are computed as a product of elementary derivatives via the chain rule:\n",
        "\n",
        "$$ {\\partial f(g(x)) \\over \\partial x} = {\\partial f(g(x)) \\over \\partial g(x)}\\cdot {\\partial g(x) \\over \\partial x} $$\n",
        "\n",
        "It can get you the derivative of any graph as long as it knows how to differentiate elementary operations"
      ]
    },
    {
      "cell_type": "code",
      "metadata": {
        "id": "nw0sSOXDRQDN",
        "outputId": "c23a3d0c-3c9a-40a3-f099-5e24f3793807",
        "colab": {
          "base_uri": "https://localhost:8080/"
        }
      },
      "source": [
        "my_scalar = tf.placeholder('float32')\n",
        "\n",
        "scalar_squared = my_scalar**2\n",
        "\n",
        "# A derivative of scalar_squared by my_scalar\n",
        "derivative = tf.gradients(scalar_squared, [my_scalar, ])"
      ],
      "execution_count": 22,
      "outputs": [
        {
          "output_type": "stream",
          "text": [
            "WARNING:tensorflow:From /tensorflow-1.15.2/python3.6/tensorflow_core/python/ops/math_grad.py:1375: where (from tensorflow.python.ops.array_ops) is deprecated and will be removed in a future version.\n",
            "Instructions for updating:\n",
            "Use tf.where in 2.0, which has the same broadcast rule as np.where\n"
          ],
          "name": "stdout"
        }
      ]
    },
    {
      "cell_type": "code",
      "metadata": {
        "id": "0DzP4yP0RQDN",
        "outputId": "835c550d-83c6-4e2e-e8b6-23df68599db6",
        "colab": {
          "base_uri": "https://localhost:8080/"
        }
      },
      "source": [
        "derivative"
      ],
      "execution_count": 23,
      "outputs": [
        {
          "output_type": "execute_result",
          "data": {
            "text/plain": [
              "[<tf.Tensor 'gradients/pow_1_grad/Reshape:0' shape=<unknown> dtype=float32>]"
            ]
          },
          "metadata": {
            "tags": []
          },
          "execution_count": 23
        }
      ]
    },
    {
      "cell_type": "code",
      "metadata": {
        "id": "HYMyKDdWRQDN",
        "outputId": "6aedd91d-1a8b-491d-d3f8-df956eb34d03",
        "colab": {
          "base_uri": "https://localhost:8080/",
          "height": 265
        }
      },
      "source": [
        "import matplotlib.pyplot as plt\n",
        "%matplotlib inline\n",
        "\n",
        "x = np.linspace(-3, 3)\n",
        "x_squared, x_squared_der = s.run([scalar_squared, derivative[0]],\n",
        "                                 {my_scalar:x})\n",
        "\n",
        "plt.plot(x, x_squared,label=\"$x^2$\")\n",
        "plt.plot(x, x_squared_der, label=r\"$\\frac{dx^2}{dx}$\")\n",
        "plt.legend();"
      ],
      "execution_count": 24,
      "outputs": [
        {
          "output_type": "display_data",
          "data": {
            "image/png": "[encoded data removed]",
            "text/plain": [
              "<Figure size 432x288 with 1 Axes>"
            ]
          },
          "metadata": {
            "tags": [],
            "needs_background": "light"
          }
        }
      ]
    },
    {
      "cell_type": "markdown",
      "metadata": {
        "id": "J_1tdF6fRQDO"
      },
      "source": [
        "# Why that rocks"
      ]
    },
    {
      "cell_type": "code",
      "metadata": {
        "id": "kxbg_Q5bRQDO"
      },
      "source": [
        "my_vector = tf.placeholder('float32', [None])\n",
        "# Compute the gradient of the next weird function over my_scalar and my_vector\n",
        "# Warning! Trying to understand the meaning of that function may result in permanent brain damage\n",
        "weird_psychotic_function = tf.reduce_mean(\n",
        "    (my_vector+my_scalar)**(1+tf.nn.moments(my_vector,[0])[1]) + \n",
        "    1./ tf.atan(my_scalar))/(my_scalar**2 + 1) + 0.01*tf.sin(\n",
        "    2*my_scalar**1.5)*(tf.reduce_sum(my_vector)* my_scalar**2\n",
        "                      )*tf.exp((my_scalar-4)**2)/(\n",
        "    1+tf.exp((my_scalar-4)**2))*(1.-(tf.exp(-(my_scalar-4)**2)\n",
        "                                    )/(1+tf.exp(-(my_scalar-4)**2)))**2\n",
        "\n",
        "der_by_scalar = tf.gradients(weird_psychotic_function, my_scalar)\n",
        "der_by_vector = tf.gradients(weird_psychotic_function, my_vector)"
      ],
      "execution_count": 25,
      "outputs": []
    },
    {
      "cell_type": "code",
      "metadata": {
        "id": "OmxrHQhiRQDP",
        "outputId": "d45f915f-18bb-4934-8f81-21cd244b0b5d",
        "colab": {
          "base_uri": "https://localhost:8080/",
          "height": 265
        }
      },
      "source": [
        "# Plotting the derivative\n",
        "scalar_space = np.linspace(1, 7, 100)\n",
        "\n",
        "y = [s.run(weird_psychotic_function, {my_scalar:x, my_vector:[1, 2, 3]})\n",
        "     for x in scalar_space]\n",
        "\n",
        "plt.plot(scalar_space, y, label='function')\n",
        "\n",
        "y_der_by_scalar = [s.run(der_by_scalar,\n",
        "                         {my_scalar:x, my_vector:[1, 2, 3]})\n",
        "                   for x in scalar_space]\n",
        "\n",
        "plt.plot(scalar_space, y_der_by_scalar, label='derivative')\n",
        "plt.grid()\n",
        "plt.legend();"
      ],
      "execution_count": 26,
      "outputs": [
        {
          "output_type": "display_data",
          "data": {
            "image/png": "[encoded data removed]",
            "text/plain": [
              "<Figure size 432x288 with 1 Axes>"
            ]
          },
          "metadata": {
            "tags": [],
            "needs_background": "light"
          }
        }
      ]
    },
    {
      "cell_type": "markdown",
      "metadata": {
        "id": "MHyPxHN3RQDP"
      },
      "source": [
        "# Almost done - optimizers\n",
        "\n",
        "While you can perform gradient descent by hand with automatic gradients from above, tensorflow also has some optimization methods implemented for you. Recall momentum & rmsprop?"
      ]
    },
    {
      "cell_type": "code",
      "metadata": {
        "id": "_F8OoFZyRQDQ"
      },
      "source": [
        "y_guess = tf.Variable(np.zeros(2, dtype='float32'))\n",
        "y_true = tf.range(1, 3, dtype='float32')\n",
        "\n",
        "loss = tf.reduce_mean((y_guess - y_true + 0.5*tf.random_normal([2]))**2) \n",
        "\n",
        "step = tf.train.MomentumOptimizer(0.03, 0.5).minimize(loss, var_list=y_guess)"
      ],
      "execution_count": 27,
      "outputs": []
    },
    {
      "cell_type": "markdown",
      "metadata": {
        "id": "ZsVoP9LERQDQ"
      },
      "source": [
        "Let's draw a trajectory of a gradient descent in 2D"
      ]
    },
    {
      "cell_type": "code",
      "metadata": {
        "id": "HpIqtccQRQDQ",
        "outputId": "7af91461-dc08-436c-b020-0b738c97e874",
        "colab": {
          "base_uri": "https://localhost:8080/",
          "height": 269
        }
      },
      "source": [
        "from matplotlib import animation, rc\n",
        "import matplotlib_utils\n",
        "from IPython.display import HTML, display_html\n",
        "\n",
        "# nice figure settings\n",
        "fig, ax = plt.subplots()\n",
        "y_true_value = s.run(y_true)\n",
        "level_x = np.arange(0, 2, 0.02)\n",
        "level_y = np.arange(0, 3, 0.02)\n",
        "X, Y = np.meshgrid(level_x, level_y)\n",
        "Z = (X - y_true_value[0])**2 + (Y - y_true_value[1])**2\n",
        "ax.set_xlim(-0.02, 2)\n",
        "ax.set_ylim(-0.02, 3)\n",
        "s.run(tf.global_variables_initializer())\n",
        "ax.scatter(*s.run(y_true), c='red')\n",
        "contour = ax.contour(X, Y, Z, 10)\n",
        "ax.clabel(contour, inline=1, fontsize=10)\n",
        "line, = ax.plot([], [], lw=2)\n",
        "\n",
        "# start animation with empty trajectory\n",
        "def init():\n",
        "    line.set_data([], [])\n",
        "    return (line,)\n",
        "\n",
        "trajectory = [s.run(y_guess)]\n",
        "\n",
        "# one animation step (make one GD step)\n",
        "def animate(i):\n",
        "    s.run(step)\n",
        "    trajectory.append(s.run(y_guess))\n",
        "    line.set_data(*zip(*trajectory))\n",
        "    return (line,)\n",
        "\n",
        "anim = animation.FuncAnimation(fig, animate, init_func=init,\n",
        "                               frames=100, interval=20, blit=True)"
      ],
      "execution_count": 28,
      "outputs": [
        {
          "output_type": "display_data",
          "data": {
            "image/png": "[encoded data removed]",
            "text/plain": [
              "<Figure size 432x288 with 1 Axes>"
            ]
          },
          "metadata": {
            "tags": [],
            "needs_background": "light"
          }
        }
      ]
    },
    {
      "cell_type": "code",
      "metadata": {
        "id": "bRKHciW7RQDQ",
        "outputId": "9365d6f9-b9a8-4fa6-cdc6-05fd6007b559",
        "colab": {
          "base_uri": "https://localhost:8080/",
          "height": 309
        }
      },
      "source": [
        "try:\n",
        "    display_html(HTML(anim.to_html5_video()))\n",
        "except (RuntimeError, KeyError):\n",
        "    # In case the build-in renderers are unaviable, fall back to\n",
        "    # a custom one, that doesn't require external libraries\n",
        "    anim.save(None, writer=matplotlib_utils.SimpleMovieWriter(0.001))"
      ],
      "execution_count": 29,
      "outputs": [
        {
          "output_type": "display_data",
          "data": {
            "text/html": [
              "<video width=\"432\" height=\"288\" controls autoplay loop>\n",
              "  <source type=\"video/mp4\" src=\"data:video/mp4;base64,AAAAHGZ0eXBNNFYgAAACAGlzb21pc28yYXZjMQAAAAhmcmVlAABMlG1kYXQAAAKuBgX//6rcRem9\n",
              "5tlIt5Ys2CDZI+7veDI2NCAtIGNvcmUgMTUyIHIyODU0IGU5YTU5MDMgLSBILjI2NC9NUEVHLTQg\n",
              "QVZDIGNvZGVjIC0gQ29weWxlZnQgMjAwMy0yMDE3IC0gaHR0cDovL3d3dy52aWRlb2xhbi5vcmcv\n",
              "eDI2NC5odG1sIC0gb3B0aW9uczogY2FiYWM9MSByZWY9MyBkZWJsb2NrPTE6MDowIGFuYWx5c2U9\n",
              "MHgzOjB4MTEzIG1lPWhleCBzdWJtZT03IHBzeT0xIHBzeV9yZD0xLjAwOjAuMDAgbWl4ZWRfcmVm\n",
              "PTEgbWVfcmFuZ2U9MTYgY2hyb21hX21lPTEgdHJlbGxpcz0xIDh4OGRjdD0xIGNxbT0wIGRlYWR6\n",
              "b25lPTIxLDExIGZhc3RfcHNraXA9MSBjaHJvbWFfcXBfb2Zmc2V0PS0yIHRocmVhZHM9MyBsb29r\n",
              "YWhlYWRfdGhyZWFkcz0xIHNsaWNlZF90aHJlYWRzPTAgbnI9MCBkZWNpbWF0ZT0xIGludGVybGFj\n",
              "ZWQ9MCBibHVyYXlfY29tcGF0PTAgY29uc3RyYWluZWRfaW50cmE9MCBiZnJhbWVzPTMgYl9weXJh\n",
              "bWlkPTIgYl9hZGFwdD0xIGJfYmlhcz0wIGRpcmVjdD0xIHdlaWdodGI9MSBvcGVuX2dvcD0wIHdl\n",
              "aWdodHA9MiBrZXlpbnQ9MjUwIGtleWludF9taW49MjUgc2NlbmVjdXQ9NDAgaW50cmFfcmVmcmVz\n",
              "aD0wIHJjX2xvb2thaGVhZD00MCByYz1jcmYgbWJ0cmVlPTEgY3JmPTIzLjAgcWNvbXA9MC42MCBx\n",
              "cG1pbj0wIHFwbWF4PTY5IHFwc3RlcD00IGlwX3JhdGlvPTEuNDAgYXE9MToxLjAwAIAAADIHZYiE\n",
              "AC///vau/MsrRwuVLh1Ze7NR8uhJcv2IMH1oAAADAADVayF8oYJVUBjg5Cl8UC950wnQObmxLpMS\n",
              "eTd2N1o7ZvU7nZLqidQWs9IRqH4qZFuUNOvgrgAArGB7WlESNB735J/CfrjEy3i5zjzWx5r7oD4b\n",
              "7vRGf5YZpSE2SfCltWRnqtLPBS3FxRjhpp/BEdar5txSfEu67R/ppgZwAi2i8ff512MwmU2ndVwZ\n",
              "0/IypwbXeLiexIGKwjGLSLtuFQ6Y/OKysfXRdbpNhUrKtfRj7PsZ4sEuP5y4zl61S+z6VZzYCdA7\n",
              "422O/g7ogLDysqUE24GpHGaJCX2wbS68ujTHQP6XxiSrNlnDwZHgbp5EeVkCuMJlhlbRejAAAW5E\n",
              "i95ObYO5PsuB/yXJXIr296w2R4KtEWts2QxCeaTyILNtSj0FAa6n+Sm+7xuX2JriZx97d2rE/cAU\n",
              "Qsh/+Ymis26EZW9S/cjgVqTEtyVS3CIlK2Ezdp99jK7/nX0GHUivuh8QdJ4bhVPEmo5B7TQYe9Nv\n",
              "n+ebyMRkTx7hvj05vOEfMTes/dwPLUI91WSm8NQ11fuo1LrBS7pJhE73vxY1JjcZWnegaFLpPjAo\n",
              "+BqceCYe5S3Av97ANnEBmzojm/SDmWarQluOhREg6XGZMu4a7snjhzyH4/KonlxVMyXTB8Ya3dGT\n",
              "vrxM2T8GRxsFP+Ki2XIeafZhzaICPKgU1x2LYZqQc9bRDlrWDpuTNmcCbrO7DXBPWt4+tOB6k7PU\n",
              "CjIJryKE8gALglo146kfPE3fVd3s/L4OMwxQ/7uXbTOTWJEHGeSg2wI+0cwzP0Vekck9mPaiEAzC\n",
              "PePZ9GFZjhXTspnaA917EuLyzWsY9LawDRLKFMZk75Jus5mQkMrDa+4Kfo9eeyKqeUQUYuEUJShm\n",
              "OLBFC1/WlfQUdeSF6efx/i/vL7uGnea5bhytTDkM7sAbm+n2DXzEA7HZIsD6chYXSvlC5U65rMZL\n",
              "g4tb+Hid510nE4HTJWlAnoKdxS/yMTJMXHMhHF0J6w5mfxRwutCe/bpXHtIitide3t38WG88gyVl\n",
              "/Q6UifbYXsc1k5C9MU9xjji1hnO1NUwm74Sewa8CC1bM7Xew0tc3CTyEaz6MGsmUYHEVDgCet6Lp\n",
              "QJdzttL/+BM0la6vaoxZM2hT5NuRz5PGDemRp1rXpkkCR3kliMClrsNCvPzIl5vhmSQ52AwJmxW0\n",
              "95eiVMyrEf/AGKcSp+OHIEShiQ6pi/ahgJ6R09NtumL8rVVfo3vltu2bo5lXJFjTlpFRGxtEWGd9\n",
              "CqsY0HS5iDFHZPo82NXLtAGmXfr3hs4s7TNpyt03wO+exFmfJ9qesklRMCAmWvMY3bdtChN4P56u\n",
              "VYAJQOp+/Fu5iI7FH6rCG4x5BfgFlD7fHQ9vhJ9lHv4RqNwOWc977TWhDZgkuX9zAfy5+UJ98zGq\n",
              "Pdn8JF27tJ3uNLIU0k27o5AWdtTXTQzVU7gSU6P1PI0X6+F11ka8LxdgM5FhmYokkiW441Y6tMfQ\n",
              "o8pANQldUjWwlY/VGhBrS0qqQCywys0XF4joJimfE3AK64NiWWHTOEnnEVv90qMGwLj/435o9N0s\n",
              "FhuJpj67iLPvmEHNYJ6su5C0y+n9vV0OgB0sMSXmNo+Vby2onO7g/Y+hup0auwslZJXm3K095aUN\n",
              "GJA2MFiurwc/qtCLhDeSqESFduI/Qq6R9CiTrZQtMpDw1r7jlT5Gp7HweEQew+RQc71BnnrL0J9v\n",
              "gg2kAOfbAKBrqquz9xZ7TtNAv0k5gWJk4S+29bWHAoP1/r4KrIWcvAs8J1z5Cl/pPrFQPFu/sBpB\n",
              "Uhb6O7g7HYaNkRezt1timKpYqcMjBlg1rNBZOnXo10bsuV0CpaE1aV27it4saot3Mjalu1LxVR+S\n",
              "yjZGMY5T+9ThyEItNw2Ari5H0E9fkFgINYxvynFbrkrU8Np7TtsCxQE1fUXqJJU8Nkw5AIKVkk5a\n",
              "TIL5gAh9y5THIyQDRtCWI3PLJP73VF2xk3c5OmHGC4onUEndLCSrJoi2hCrrtYKUuKTWQ3Qa91kB\n",
              "b+/x7s1HgQ1rxmN2dWAyemuOoJoYOTKCBzJKs+wvdf6MhYAx3gMtg8tLjZe0KoKDI6B7fuwOoePp\n",
              "fDACyNBaocdh9r9/56lr6YRnn0cT+RNsXtRAERKI6RBVNomG0DsS9RLkTi11w/1DoGf6W75h/JUU\n",
              "iB54gtrRf//Sn08f58oAb/HQALAdlEfpsEwkvNuPbcVMuaiSoJq6YX9l0EJs13Ht7jVXunFoL+iq\n",
              "9K2faLhKJ74Z7t47fWxMAVPAebuCbeXQpywfu5Kiyw28+4HYprLev7Ze/AAqkET92mDiHO8XCAve\n",
              "DiKBcOm0tMDhavHMvXm+jwelcWp7DOA6B8ny6JPnhGkiqZfcnpnoVevuwtDxw70ELWVutkwMojVv\n",
              "bvOe87NrkQCtz25duzRxO8udi7YlyDqUgketgrrlN+ebdRmqCsAJvxRV4ngq4f1D+0dLhMvc45LP\n",
              "u9E38Y5c7ODxxbnjsrdG+oNXxhLIFqhn8w23pc/1suM2M/LPS6cYaENQurUAaNLDB0HRn5YpqM45\n",
              "v3y7LJ+3RAgjEWNSgFJmJ3W2EvogaiXLTp3pNXVZcsolyggVXLxlEHM7ve5qt6bpU1z70Zp2Liip\n",
              "vmntwb92ddEO9opAJfBZBNqullKkF3JsKPbjyJc/UxFJgTgdponOeTN4jRjdfxe/f1fruHyoNAdr\n",
              "bTvlzAinRGcP+rCNAzOxXvS+XRCi8zEf2sJp7BqL1Vz0C1aIaIxecpKCFnBiIEEaQcQ6yRnSv5Q0\n",
              "AmVsQ1aOyM+Zx2CspaT1SkAV2ci1xpIEqmjahW73ZCst9tugViZ2iWxOfVKCJRulMb6zgdRa7Vdp\n",
              "1oA38cG9/lshQ52LDobK7VGcyYMYQFHspd52yvIYwiMS9Skw8ODNLNiCu5hIOyPzdhCe5jBF8Zmx\n",
              "t5QBRzvHPR0fJdZpASGNsTTlrH0kprCISj6HdaNJugqg1eCTgnveynKUh/gG4vm7BGdh+TFK4D1J\n",
              "QUkV4NA7uRomWKPJvVx5wtxvynS2fW8S40roANsVWiKRFmb12o3eaecrJSHM/08XWFNUNrU9tNRT\n",
              "ZOW3G5qcazg+vBViEpB2bbYjkFrpO53plac3gotVy0KOXhAFOXWqaZ34yjN7/kD4M1jYpYvGJ5FF\n",
              "DPDaVEkcNYhGnstGA4qm/vPPUyA1L0uWOo1/ZlXapcYH8hyEcxt/e8DOB/pD1eckTKkMzRqhSDHA\n",
              "UT9+pEd7h7rlRnU2pzyU9rm3hobSwf9iIpj1pyrS9z9MTRtlvK4StOAWrdY5ZTwuZ+++4jGgbzC/\n",
              "MaokMYKN8stQoGwOz9B7KU23Wdc+0mx+dUlDx+DwuaOVh4FLQ4DY3o+FXgm6Ninm3ldukF9edi/G\n",
              "uyiCoQnOrtWjOGGrD7DLfsDKX+zobgUvMCkG2k+AdBEuDAUyiIMMkIUc8s+Y2jhoQ50QScR6JCGj\n",
              "kOA6GKYnBGwbJeG+Udw5RPHHlOIgaslwTFsFN2pjGVudfvkDF747srZcDSxttNhSm5GX0GRfp2sB\n",
              "uWtm68TDhYAEQBe4Q0YrLGRnhuoK0RT1lfF3E6ozO+y9rwY7/xxN+Vp6Sp0OvnJIn04yH/1l7D31\n",
              "daEmUwguc/pc7LAb9xgfd8ZgO25xnIIiLvxFy99qG5YgeH5hiSdYGYyKE3dFL/8kopg/01astcoy\n",
              "411cAmF9zbMXkIwG683lbnOWTiLmjixeLmDlIDDy3qzXfyr/qibWhPRdlBcYh+VdKXlpq3UfzIm5\n",
              "i2eEIw71I6iSszT4TyHfV6D6olL8KVtly7sG2h9yvOZWpU4UsjVbrEuIxFPFvxc1p9z3nLXmM4d8\n",
              "v6wuMM/xRT4zqJjTk2CTHS2HEWt6w3pZ7oxBrIuxsH03S4JMsq8evQ6DOuvenc+lJU6spAIyRlEe\n",
              "qmEZT9NSi8XjLYYKJi1wGK0uEP/8MPT77g/hTk9vL4fnZL9P7/Kh/K/7ajuZ/qv75Vae3vip26Rb\n",
              "0Y0yTNkaxgeKThOxksLfPy7HEgTnH1J86VGN2wpXYSeFK0koypBgLGlByxpI2vEpgAZe82etuvad\n",
              "sSI0U+ipZzh9mrunmOh8LLajybwEgkKnrhzYd6Mh0Hr0ubvJTl90BvR2ZJ1Gz8yyiYL79iHvcaUR\n",
              "jwhAyRD2znfe1p1y6M6/cNRVDZ5xAXydwvb4q5QhxtDP5ri8uqD5yZJVyaGSUgfJeSAW49/7So6W\n",
              "EQLISgia4+TFvd7EBhsJyMy6JLHsPiFZcIIbf82TQwi8wULfCPc656U61lyro/tYoGQZsHpK+Z3p\n",
              "4a0dI2JphPrXNoEULgFwrBlubc9mwFFPKxGG7yYcQhakPzQX2na/5Vw1sfQ2tN9Mwjq15vHW83oq\n",
              "qBXCW5UEZNH7S7p9TprkHMgNuNSqL03rFv4iPVzgXQxECuQQErnP48f7P+IWFVNfblGbi/eBHhBL\n",
              "OxOt+JBpv/PXri093Y9tgTjRbv1DZEeYg5TQvLSeqeIliQZcfQHGpsQqT6wxlIE4+KdJb1BQT7Gq\n",
              "GGVGuquTczKZyr4vJmSN8dcDISd0HgJIzy7X9j2fPunnKf71E25SeVb4qE6N3rT3QFABhZnrUzIi\n",
              "SaSEdCHxCItodcuR9U7v7BIkuz8zg5j3hMYhB+Af0KVshpOMvshgcOZMW7IArQpXSkOAQmN90mvT\n",
              "Q6y6H29LSkSn1AbCr5MLFe7dsOo4+OhWTLrNmqPN5pn/t8/xichZIyT3HTQKWZWD/gGEos7p9KUi\n",
              "edrAn/6XirCoRELdiX7CSXi6OUXzu9CpbGM0N/FV+ewgYDNHC5cGtTlreHE/bz1k7MddWORctb4D\n",
              "Sdeev05tOlfIUEkKFcWeahYHWaaygftZAmED0kV3HmvclFASE3Hk9z+ZebqTpvGiJ5cukDc9NtVC\n",
              "FQfsKX137tua3eCFIO5AKyYh9tncTrCJ+2FqoUGn6j8lMtmVPUWSBHeX9uuL7w4Kaa9ePDPjqujq\n",
              "PF3qEIdvRFn3d8pnCUY6N9m5spbtQfXycCpvLh2XlJs1uIB1baakjn3JETHNNjrLN/10v3RurLtZ\n",
              "ne0Il11Pbj2XBubOlEBYCe1/iguZxY7DvAe6kN2CKMBT/Jr8pyHWIwE07fElB3rdfGkDHq6yYpE9\n",
              "S2ePZFN7BtVX3mZCej3mTkHwC4frsBmV8pQd/MMOpkX+V8X1mNHB3xjzvseJEcVGo4aTdVzAKdwP\n",
              "S1yH9q8BKYeVJpdfQWKTruxQtbO4vDQ924vtFouYpT6eAZ1fQkGDWjFzPMe1BDeZoMurnayGlCQI\n",
              "Sm0IUhaHkXPe/+jgRMqkNixFueOpZ5TpVTvFcfaFBCxyIycygf/2G6PdiXMxHkwMu/UOoLMiRwrx\n",
              "/6yp6g2bH6xeRpor+EhyWRH5wByWMruf4vyM1HsXHhn9AKaVoZN8t91/ox7tOXDnQTfyAmRtGKqZ\n",
              "2ksJS/BnfBm5eIoVASyV2LsYtPa+lNvWaP+iHGBuFChPQwYVk2mZbWrtAHKvOHcsTXKxB+AkSa9U\n",
              "ygJMBtKS4WZupX8iTDY+RfU2/AP6QSCvim7vxSqOmRRGvhF03/G7FVW+zthlipKFMoUcSZ21vALK\n",
              "QP8bYkHTKEkLql7NkNb3+AFaBfR/Qrx5Yh3wm7R+/wMVXPOm9e7iX4b6uivjoyNpYDLpibyrZ2f5\n",
              "mtmnxi1/EDBzpnPO+/S7xss8FDRxna0Hk4eGWttYWkeSp2eyrpO9OPEOhnO4LJpbKWpJj9UDeIjU\n",
              "y0UaWypM81J/DG09Ew+kP0Uok1wqtJqkETpVGgBCUqmm+qvorXeDCu7koxhr8HCKvYqpsrDhb+/z\n",
              "PSvJyklueTuHDE+V4o+LQgcBsmXRCilrGEM5eu4QCgxycMOn2es2I/+xu4y5hI5Z6i8sJAcjUS8B\n",
              "O/uZPFFmwOvB1t1bEBmOcPVdi3E5Bq37XBgaZJRRwQTu3LEn+BLwGNJ2/Z+5mGUrBOC60fqUg6KZ\n",
              "M2TVu4DFv5GuzGZwrx8X3Qt+SessvsRONqj7nUoztrZCiJO1L5an8BS5THMdPcsgFO84Vl1aun+l\n",
              "/KvqGWaRLPww3TTUlv/F0FBPV9A+GKejIbFz6YdWD4krwBxuHSZL9WVlbWp9JZxGYRcz6xXnIEWV\n",
              "gIXebYvj9remWFP2VdAWw9udDyTnNMW0exdSE8MIfJVaH4vI8KRkW46uhpwO1BKA+4muArSud05y\n",
              "wmtjYLhJEZUo9AraO5i8yMIWM1v/8luAQuJvewhLN9GSZ4TP4pbxboat54ihVzS3Q8XpN+E9Se4T\n",
              "ezup/6A1+9g8/ZInt7fYSEJFb9s99ZBFAFOolS9VS2WVI0aBhfBU/oCXFboFyNBVr+Su3GlnJpbS\n",
              "01kohYr23E0XTc50lXpJkP+XNKKQbAVOu+A6Nv8FeyPD1N6QxvEqwTJimfzM1goPsvCtBNmRa5aR\n",
              "m7efprfLdED2SVbxNKPRPPe2dR4eS5v7X9qjBXXUXPm5EiEc5YSU7jDfNxfKBKIrGG/tZwxy9zjt\n",
              "TNb5kcw+vQSGrZYZC9vUS+1OxVgwjMQDKFU6ZvnxPs9OhjjjkhejomcR8mcz+BO40IO52TlbqIYA\n",
              "e06WFC+NZt2IXiePdcb60gwHP28ekXzRXKGBl0xRuK4V36JwE20mCnR1bK7jT+q8ZhpqNpTwTObB\n",
              "HhV51FIeU5zU2L/ZtEXsRLVQwMHJka4izk1F2qV1mV0Q7k29/k1GTcm9qtsvtI3JXFK+tv/nEviy\n",
              "enz+IwYw4m64maIewo1wr0CpX2tMmZ7nTOJI0NxOjWHJdvs19PT9U6wCmotTggVWbJelj0WEHm+e\n",
              "2QVeE5UIzmjhKwdfVv7DQK8QAYgY88MKj6HWHVxOf7qyh6EVBmXOLBq36FyPqINuULEH8vS+RQE+\n",
              "Zhpzk9/xkbgut/trMHcEu/351x6beZk0FSeP3Tta9ca2ysmN9yxNNKEvPbMM/TNTun2DpvSG2YDu\n",
              "hLQ6OiRGd4XVVSCA7n+6QO1WapPPTMHbu6YwYBkECIuH9i5ibtweoQcN7j3YITh5k17TBH3V3tKj\n",
              "lfh+k/x0htlSxjTL3viHnR2zfU+bVNIuHxUMfvsr4EbCA08fPB31eS8pYIjIxKTXdGYTgWT5d0VN\n",
              "6JConFzThtz0YTMI1znoko3prcGBo9p1pfikmV4tuO/SPq2Rc1PAGk2u1fp/TbnMxGHyQWv46Tnp\n",
              "EomDoL7k1SNsqXIIneWVLlmf93ZLnatNSMqVF6TNIl1kzItQV9FP/zC2DoOJbmeF+YFve2e0ftg1\n",
              "dpKuEJ265RWWjAkmzKyx/3xNaJL5Y7jcn6zZOogmGOE11dxpShGQnpYyB98hvqXYXodx1G65XjYM\n",
              "M9WusT3qxct3u4XNfVEk+hJ8yWhPTHbwy+VeaY2f6a33fGpHfEyq4fOtlk2UJAuO63p+NiRT0DIl\n",
              "kl++HZ5cqqH6IVaGvezjHG4GIapZ79rb6S2sH7SihoDkIubNbupYgBltDVjxLuofYuUylwvrC2lN\n",
              "MSFeeGV0tBcc3e+G29lAWCRoOGhPSQCW/3YYfRiXibV5thfEl4HwE91ovAWA42Goi+/EmdgKifo8\n",
              "IIqFbYna760yziiI0sF+HI7aeLZfoKkQ1SEQ7P3VNanWoC8WqgERc/PuUc4Gcr7osKTRwZMEYtcf\n",
              "70vu8+CiT9Ue1rKKyAj7WMZcl2oUQ3FXlD418yUPyJEsoXTEMvR9wor9X7iUrtFDTGQ0JaHc4IpU\n",
              "MQhcHslWQMaKW+LqrN3sSv1hMtHa5SNagnWqHbR3EkfGrcCGXHBRa+FRdIfMfic84FnkK2kbQBVV\n",
              "mclj01dk94d2H5w/Ep64IuTPFGY+GngK2Z8NRHDiV/RVbQPaKTUeB2iooYgp56lssAY/oZPIlUrd\n",
              "0+SWIBuxTb1LyINKfXYFFSNp0698xfwizx8pBUrRNN1m8gvvwdxzJyW1LyUltoxHfE5Pg1vxF7h/\n",
              "AFwbR+rCEbT7evSaogPoJ73CTvh0xtwTt38MxR5ZLseSEyV924VzmwWNFGWKA7Cn8JZ9R37vHSpC\n",
              "u1ZGjnNyp+3a81znXkIqtSi/frxb0Pp8UT/xKlV8u5/cTBl7+Cc523/Bx8YRf1JXk4t1itYx6dFa\n",
              "Kc9SGCSgoJlu+hr4fynOPDQ6VXIrcmY9KbQQW8EditakA3Z9qkvNPF0CoPAtVX0WW+3Li0IhJbui\n",
              "sMEvfjqLAH8CQLd7n15PoIt29WshMvAVG+XlDoy78amWq2yQYIzMwlpAJwdY2lA+pwsLAh/aAivs\n",
              "wJhwJHXaNT+gyybd+Pfax9ED7jjn4bR2LW9kfNV+FiMsb14QKmSer1yetLnBWzczZi6MTyJR+z25\n",
              "v5foOIIk6m+USOaXjlkeKjqgupMUfWcjZxdv4++wXrQPW/3tDSyewQW10PmGfHFwcAX2U+UIxoIQ\n",
              "SGsHuWok39dM19HrJv1I+U+yaQg5I07sQaZX4cBtwsfcGfqzXGHZzBW9Hkm/bvOnnZxpFwLG1gDu\n",
              "kwjyRSmonvF/pAq808UDU/w/ltjR5egbC9YJNb/Q3yeqKXXVC5vhiofQM5pgUBZatay+Q/tE3rbR\n",
              "8mCuuH+k+fOUIMn8iycWqY0sY/9YyHHFLO3vFu9yuKuONGq/4E0ybW/cPRBCQBOLeiBhhHqvqQeK\n",
              "HQem9qeT/HbA6bk9+sJYE/vLwSNqoNONF0R6lwSKppEMO16pAh9qlqTJcu5+r3mDGNYTDYggiALG\n",
              "z9tsQwqKcVDwVP62nsOoXaJl4EzZjeh2hUekzmfDHStpz4ZECP5yHtuzdUxfH6X46g0GoVPXxrPw\n",
              "XUtLAFG03+uD7a2IXtOyd6IcYRPm/J223sEn3Ysq3JY7UuhrtOhcl2HDo2dAnOMKqInj7APyoiQA\n",
              "Zc4yqP49N+UKAQpBPaCSstWwUIuenEncH+ludAjyYA7fpVEmS/DzxtrUQN+7q8v99qiUarSejPxc\n",
              "s8t5pn7n7cnL7vmCQ2geT01RIRXsAh6O5WbSEDXcoXb6jp+TMkHDv0vX9rT2d2fovWW63nUdPMcA\n",
              "AFmTnVfKQu1wC3AMQXB1571JzM+6HQa2MQhJCU3L4AWMv16mDypnPneuodtuItIA1pMxLs569nlN\n",
              "6KpkbJJDF6LDOqmhyk9Q9LWKLeKdritQw5kVgyjnKvOW1T1zQNhVs+7ri1gUI3HCr9VruHWw5GV8\n",
              "kovQAYauBAwqJusrWzwo5qOcOEakarfglwsQreY8w186CQJHyJUSImjOMwd5MoZqbMeFJO9Fljjw\n",
              "phxWszqmghXdjigoYNQEIe+Hut5AHjEuChQHhnMMR4l8mGaytNs+nEsqDNOrOxAGlaw6i67l2q/R\n",
              "PtT+uYKL2SXC5tm4viFPGJNzQWH/UGsu0CqiC05hGeXXIn+UDIWxMn4zHsFXoHKVKHEascQl72qy\n",
              "9M9WGgq9n363SxTWBwaLMMehx+xMI9HqDc7GPCNjdfx4N+TznEvucEaTDJ4qivGA0B0SRWNg0gKK\n",
              "7eA1bt+fUQd1xdGuKq2hvicMzTaErNaVL34NQYnW+ne4eTrZjVOKbMQ1/T4SG+J+HL6idwv5udfu\n",
              "dOsBhmkeZyHSX7ZaAgPX8YJ+mNcls3DWHB8F8nr7NfLRZiUzpW3NDCD9jO9VO8NVosgcY6Ed42i3\n",
              "MCCOHA68cspqeu1zm67jqr8eAA4XTcD8nS4v4NZU8gDBv/+G3FwzyC+Yeo/ZLMlpYuTuiH25SGT1\n",
              "KDZp+yjdReyEoVFDbWnndIhAfHWCwPkKnGXljK4WFb3naViUa3PUdJJkPjRzYbjoHS9zu9dBgf+Y\n",
              "7P1fg5YZghbMrf5aFdacLbcJES2rxxVH2Tl7H2o11IwQryuHdczxLSoeRpuGq/6FON5LGAWT1PBX\n",
              "/01yeecwzlfJ3y8Ugp/44Foz45mKKakXBUUkeuQV8wV8KxrdMbzwIBohT1umS96OVXbjzlXsS3YC\n",
              "CZAiUR/bbtNocOrLE5dxu9P5wdRwZVFozwaZLWd4UBeKIQd5b+20NMjTzYMwcLGzy4ynLBni4oQY\n",
              "ebRzVpuDPXQBwxRRzJoJusfZAIUfkPfzK1o4MN/x58hYe8bIXghOQQZbnALyi9Ga3jlS0lnAOu/c\n",
              "OWFz9H3mnJonMp8tr0cJJammeLqja/lv5ty4GofcwvB2lUyqQepmpVzG22CWkV45KnNZAjBgUs2h\n",
              "6l9BfrX7LNG4O9/FSd9f0pUetfE7LlbKo+QegKvp9N9zN45UG9EV/A9PcDtfx4eJpkq8tADTgSzK\n",
              "o7xas5AsqmTVER4U3FlLHqK1Ho2XNESOEduTWX5HOssqvPruipzswASM7s2BBCLGDAe7A6trgbG7\n",
              "O0SuNKlgFJ9F3x2vMS5FUd1uF3qEWhoDD43qQxnp03i9WoOXlLoAlqRloFd2Pcn1PpN5O+TbgXY2\n",
              "eBLagp+yyz3rYstDL1oJYIVmhMJYuiD1lCwPJrJS/WJlziTM9wRS/9CCFgLKk+RLUcPUBKenXfD1\n",
              "wp0yZqMLmFF6bjQtMOKcetqxwg+LaXAVwXuTB8dl4KQwe8dwToT6EVVGbeUoLCow+qbUbaaAKyA2\n",
              "mSaeJPIl4Kz8yaS44cWKsoMfu+F/Id298/x8yUPHP/JoetRoH5uftgH6qipblwvW1M6iAinwtRu4\n",
              "B8D0JIXBUeBCRImQkEfoDhsnZbw8l/b8GEMfdYpwk8R/DG19FtEP0MxVFEl024wE0ywOwVMcFSMs\n",
              "6YtDm+x952FvcCeKJWWNjnpnD3hyaypFa35Q9wDSQkGJF6aNKKZZ5xy4ZGk3OwsQTBCdr8pHFakW\n",
              "Gg2PuEpgNM2L5YrTGyixOB72cOAbO/bwtCGSk/HdyMprdSR0k9cb0RgTpEYRvzEe3flRukq3eHy0\n",
              "9owsgBJ2Op2JuSfQs8vx0MSn0nBi7ZRnmGCgWlljrgQZadbVQgT/S2bezUVHbuG28RLcwSvveI1r\n",
              "rG13+VpBoQ44QDSLEVI+WNJSYrbmvI7mNVM29Ps/kYbnXNwpXuEf0k07XlJbR+81/lkeDio/CnX1\n",
              "Ue5kjIm4U02S6Tz+UxKFoSqQXZJuFxhHwCPI9ybVZyDF/xkPcnapPN4xteTcXlUXqIgzF545+AeV\n",
              "WjkT5RMFMHJ6y0L2NtuReL5x5CX2SSPZiqcb+Y10jws9NJKkDHvEoObW5vUUEgMUurL/ByN9Bv6c\n",
              "EW/D1D1BIzU/5QInWDkmTiyzLk+RJnmP6cH4AvF5U664g4Va8hrXDiA/x+NS0X34bn/9xvcpYciQ\n",
              "+sJnDyLSwuunoMOXCN1lTRWBB5UkhrMlXJU8zf8MY/AbIdKAkqLQBHZ8jpaPpJURm5h7Ms7oBZpH\n",
              "YsY9tnFZSCwMdQnNOIhRmYELWGZBJcCCNMlT6wx2qUeJpWNsWXQV12kNME8XxJpISSAZeZEnltqV\n",
              "FSim5PZTRjph7mBYUJ8RZ0kz0mLF9XG+Jg6nS2Ur3Jv8tc4rodvwdsoD4+zJdqjuR+KoNDE1bI1S\n",
              "cOQ7llc8bWWxCZ+S4j2ICn1A7o0qXTeBRuaR5PPT+DNwMiTPVhB09eH/ZYr+w4uQtHsDEX5AYp5N\n",
              "hbGGQlGM/zX+qBiZEqP79VMRWogVY8nwXf9vMCyiYeUv8gDGMS+lIgcvl5bj8viEWfEoEepyo77m\n",
              "Yq3iJDcY1rOOhK/0Xnxq89qVW+sG9sX9lLJNm75J7h3iGV1ljCEk6X7BbkKM+g6jXvgyUJdVirtK\n",
              "r5Za56CKzUIWAi9yRVxOeCyAxPu32yd91waneDDuCM2TRwtXYstbTQs8sx1sxCVvTwJUC1xVoepY\n",
              "8pZO2Im4k9YiKpMcAddfh7qtKpFVELrnVlSFyELiJKY2GsEFv2XihCL+lw226f28q9aOjckTwr2x\n",
              "bZWJZr6jv+QT7MXCZjTiqYUq+XS6etV+fw8Mb6Ox7RHyluCwqeAxCNc0wRJ9iEYHIgVWGUdvypGf\n",
              "bIrYCnHVmR41JfKbB+Voy0fC3gVaU3U98fdk0ChAg6Cm3igrUPwx1LLXFAYxIDGHVV5rvttznQKB\n",
              "63ZZ+BRJ/EeXm7oOnwyYmJ0L/AbQ07Y4aLnrzggZxha+TbGPrYHSTQZDnyT+IvMRfHVbX+wKfGxj\n",
              "RpXLtB+YHkNTaER8wdgwEyaOOd++OIqkdIM5IlOZlZ3pSAfP1Xvgz6/9FVRoYfHWhJhV8e+QcwOx\n",
              "XrEA5ojAh01DtLzhDPBdJZZDiWKKYr57vdPEHp4r1yYKTwVa0jRvPbK3Y2v17LBB+gtgQQslHRQz\n",
              "nkbX41scJgMoB8uwwzF+xtXE9O53ADNEKaXUiLiY3MYSidcQuPALMQA9WfnUvskzXId0lRK6Kx6D\n",
              "tVmo6//rY3t92G7/h6/vwHoIC7w+SKz1i0Q19yaU1PAFO90mfiivq9wUbzrLQoy3QyMPZ13lx7Ri\n",
              "lRGh0VYOn7DT9KibnMj6+hginOY0W5TZxVkTmETW4pOZDSpKORyTdFGchXQ6mhsfUGuV0Az8hffk\n",
              "7E8sSALNSuen37aA+xUc1AD8xPgp11vMXy+kmp/3sSeQMZXZO8VIxH2Gw2RH3o4AOXIjhZxzNs1v\n",
              "sYCWU5NNww+xd/iQh9kpxhW3/qXwgdjT6vElN9ankCd7X4ilh8qf2bpvyTfE8QuMDv/04mKn8F5l\n",
              "ZHqlNUUdyyWzgJNQxkoLYtGS0J5/l2Hl+sI38ASSwwcOg92Hkmvl7dWDcm1YzjvDQ8TCKp2bE9jE\n",
              "vFPG1g4z3hMLpoQbbA9YTOs2AYdrAkRl3zCG3FBgUL2fEkzW5eWVG/omq2iiieR7GtrOYwBYOA+G\n",
              "f4MM8m/5ZpMEmbyzDGw9Jn5cxolwbpUz0Gb7b7Ii7ySdUrptxCF1PXjtqBWSgzRz7oT/3QYPKIY5\n",
              "jqyv5wv4FLfTrPaR0LWLrbL/QN9PFvZnxxt0ceQx+8hSZ5I9eOWN8xcdVHVkCbQA3Che6ixyUvzO\n",
              "JZO2d+VvpKKmxP4WOSN9N3jCntVPrAF1+i8XqwHKU0TjA91uff1Xz/J4CLyj8iJzvt4S79i0xSgu\n",
              "XuQAWjJZIlyGa/1tdsM8RCVH/X4Zixrdzdou8LTXaVSQsCV/Q9WHIlRiPLwvkzA1X/mkpGpLjJNA\n",
              "04PBp7IZZ/zYQ3LKVTbj/PnDGYflmq0PibDX9WQZytsMoZmjB8skZfISLVtbwBB9DqaVbG5nt5v5\n",
              "qFiu8QTJXFUdKOjrM9HgI91lk4l+aN+6W2Tb3ScEwS77Nio/IIWJDFRi07e7XqO3GGy9Yd8Xcs5T\n",
              "hN2xZKn6llR+blP5p9ZcaD5W+RKxsrscCkBdA+j0JYhyG6mai5tSOI46xFbNz/qZH61GuwL4ff0a\n",
              "YjLhYVBw1eWN2AOHa8XTVNcSFtR91ioymAp9O0SNjl1JCLgQWREDIgaXKMvQWtAnLPCE8gJlFIo0\n",
              "wS8q5UmVXI4qUBOzcdqtu8Z+wrZhtL7UZRJmqnHBRzSjPyqhLUtNEF/ZOxfNgC+/yPGuVcZeoGSl\n",
              "xveKmOIcWXEozrWeMJpq5X1Rdy+FIla22d1VphF8oEgv9ZwQMRLyhIj+8f/hc5dQHUhzDaA3fsCp\n",
              "WeUrdEoMtROzVlz08q9nRtIR2txqRee8sd987onK3l2lnmcmMMn2xiN/ywbO8LDDtLTc//+BDU20\n",
              "MTkQg4VTKZYT8WBK3rYb2k62bXzCy17IFREyAUPv9+MuCxR/6vf6subwIRPsd/m5V8Sc5T7jFNOc\n",
              "PK7Rf4h1YfHIfMEMy1NN39NfFdYGa8LOtG7bfhwfvZUfs8yBgnI505JU2aHzkFILFcehVOOxavHj\n",
              "3ByeZlBb7r5LzIE2NYKkP76ndahuDB+Q4ifUVOUbba77aBAeov+FplcdxtZRt7SqhSAgUQv1Hxg8\n",
              "89P/ZRDamwoVsKsjitixjDJC+at0zysRtEKTw5Liv1LZpa40WNAp+BOXs3DDwPrTYfXfTSaeKZFu\n",
              "fPctIW9lvNq+gF5qdcopqAsnvMOch091KMUG1DX+r6vcm2doqd7LpVyDgyMoAwM3tVN59HzH30Wp\n",
              "Do7IWP4BmPfPMYQ0FZOl1NpUmtBhEvkgz7aw0y/CagYfXpiD7+oRUs2KG/1hkgbHNp5yfSOCHg+x\n",
              "WsaQSrv1YqGVoLa0VFL2AaEWp4LJISFpoP/2LHxVR6FgOOXaHb/cprr7yozwhyoZ0dR6k1gVXVXx\n",
              "+EZETkDnQwABqjn7hf+zmemb8MmOEDZVi92ipeZRbI64tVHVwmHkQUbuVcUpn4hgogpPvdq4BOFf\n",
              "AxaylFPntYFdphSf+wuXwSHj6OtcOwRNn7a7m2tR0ZfCbuLJNhGndzw87bZUGL0Oo3hCN90h7x5+\n",
              "zHkh6svOHcBXB9aYXRenL8el+RAhlr7bxNPyTjia/l0kUuLQ/SfFNLQX9PgTb4FsiTXcP4r8Q+au\n",
              "bEPwM7wl/j0xC+lhWKweFj5Eg4aptg7loyOc+vixajXrphnrLNo1MbxO5L2sM1XGYwdQOo3TwHyX\n",
              "DBUCiopN3js7PT9OfQTEH/fMpxa8XETfAiYVEkZy62o5QhkfQr3SzxekxCqWI9CLWkIgrMaVIUOe\n",
              "mekekSi+soSI5D+3/b4+RQlnSeXHSyoRXvv7l+SG2fW0uPtw/edvPQOAHuhYaV8IqDzye/7Mphvr\n",
              "buVqjuGhOKdxL0dsvopDrpMcwc+gZ/7ICsL0dY3lvR8001UxeMrARkmazqQWddovgUaD8pdnSIzX\n",
              "22EH8XJ3lybgr2TlWJYPcMxZU1bKcMQtUiwG3oMSAKGMxDxtxP//45VA1La+s9X5DtHw7+Yhx/tE\n",
              "cYyvRCFS5V5bUM/n+sJah/8RACJ7b4s8bsTyqmLTmkxVGaLRQIPcX9EgVpLPahSCkrkl97X70/J3\n",
              "B3umARscHHuT8y/9EHxCJcNHNZUiKDu0k03pyq09b6xWzqiHONj3BQBxabdyXl/AtJzZbLfPV8ov\n",
              "0IsXMpOF4dBhE2mD3bNvzaO18q2kRE9Ht52WSIi4GNU69O0RJLU23FCbGCPhuj0QPd7T3O3iUqnG\n",
              "JmaIaY8UcY6UdnFMxU1qv3g/+SATxZpWf1WrlmUDdTyAe4eAoT9pP8mKbAX7eUhbW+ruj+t06F4X\n",
              "rjVR6vfZvOGbpLlwlqbvmresFQqXuLcfSfVeFk139y6dUzuEbq3jPAgVF2r+47if9uSGiE5FqvXd\n",
              "fKLD9H6zMS9bBGSidc6EBrsAOaKWjlFRQrwwq7wVhx8b4oeYsG8jAcrGCEkE0vFNDYj5v8LrS8D1\n",
              "4Aco4iPd9M6J9hohX5sUQIz8Dk5LJzLnmCkWgaqrq22esuNu2juTMeyqYBNszyeOG8/hm101mdHW\n",
              "plhyGRWMJW6hK216Q2/LsMxe9H84s6NlCPq98a+pjEQk17t1Ku9wdrY1UfnITTe7w7uZVI2gUyAl\n",
              "SwK0gn7yJOk2iI1E9ONci9QT9WuipdxlbDsRE3Wx3LAUSBmZiwGFyBNnBXRCi+E3D8VqpgPEXUvW\n",
              "zU8brXRROpPz1VSha8J8C4eYC1sEZMwrRvN9SmL7tH871aMf9oWiVUmOdTT8xEs5huJkc+6H9ZH5\n",
              "E5EPRj/K3u/5IeWOxt2U6wpZF+m1a55+UGk/nz2IXF2KiUoJW1ksA6IeeYzB8RWg5ZBnyGCAzmcx\n",
              "Zd1LHugcwWK3bfa5GbmVZl6V/FsP3733c0ZQEQ7w6GJZKu7L9NT3pnMkvGpjfoWgaSNl/Y+gLrsK\n",
              "fjB7u9QRqUc4vtYGaETqT9ykC7I2wFRvsbcY5zor2mTLgR1a7e1mWgCjeviZ7OwWeImygIHGr9rS\n",
              "vpMgh+PHJvShYZUXeL0Tj2sV+UVjPDBqmm0aUCVSWtC+VZHfXKfPTsRfND2s37KcsgkdR+wHHaj+\n",
              "zGqjT6NxVsKmnVmwTLNAZli1JDI4HoQvntNEMyZgWyAgJu0kuALhyIMhopjqDYaQrWX4Y4GCB3Um\n",
              "B+ZJtyNlBQlk0qMU1O/KTzDQa+Z4N8GjhH1GJFwSUPD4tkdDrOPECjT8o+Mvd0xO8d8sXtx4LZiD\n",
              "pVfBD9gjiie2Pn6an131Kf3FWrP2KT3s0VudGeE05TFFRLcODEifaMxnKtHZXqhnnKTr//KYWZvQ\n",
              "c/uPqzQ+Z7KMmxDkqz9WTI+1+R1SgJa/+FlNC9OzxoULhKCylDilE5dmS7OZNdnE0/lMEZuMvMti\n",
              "t5gf/8K3GgQevHO59dF3b3pXq/j5+RC6S3zvVvWmlEXDb34HSlIEOkUCmYrdup8IH21wUApzQy31\n",
              "cftWy4tTr2TL3jm2KfqVySglpuJk2/1bNvwkP1KEAZkBfOhqzjC21oRLx0yOKq93jQWzzuiC2xu+\n",
              "0jvsA8i1DtOkF7WKrol2Q5yl/IcZ/E0/jbVv6y984kCy8NugzoDdICtrc0b25+ZzXkrDdhepsK3C\n",
              "rHAlQH2bvg13BKa6KI9VZxdOQAytfs37IzYceE8EgLKD8ZBuGrnFJHUo12e4qSglMfhHPkzJWk9n\n",
              "fTklLz3wCpiBKg2rLtBxSSM8uKrNrSJWo+jmVyg+nA0ES2iOD5LIvDBd4UKNT5gGkCJrNWT7Ignb\n",
              "mr97mYGeyW3iWmjvdbwX7zmx1OaGT64BIYJAdLuTbonZ+HITI3SjapLZUNwAYAPvR2/Zhqk3igBD\n",
              "SiJhuKS1KPuRQ1MtWX8+gjwPPrqMat5uY0CUZj8FK21SwuJHGVr4b0X2TsZAPQPBD+Fe284HXSzV\n",
              "li7Iw4gVeEqcilKAMlyjaobWau3TsjrE2Jb8bCzd1Kimr/DoKYrMFaJQkchCggsxfKv1i7T5KFuD\n",
              "RW73EagDDpkToLkwlyQjHAFzyWpmHm+YsLs4/D8n94OmvcBWVYaSPQXJq/WAOJANH/J3pyxS70ix\n",
              "8gHM3/nu+yY0PrEP6ePiV/Rvz3AspbkLJkBnflTTYSPdqMnGV/0hD9Y/MfhDCNXiPckN/kx3FC8Z\n",
              "+snr6y5fwdFCH51rd2k0QIAGDtlb2ijzUMwS49roudc6fHPGz/X+cUyr7NMhRyMEl6Fdb9k5FuLN\n",
              "Nf0gRdSiJRVIoXMsD9S/iW0jtdZI6Ze9qgf1JezvTycoQDB/9+/ky+zP0RfAAxowR5fVLTH0rnA8\n",
              "epbGwEj5o7Hf9GFF0svnrLY7/CAAACbUd7nYAAcv8kAD6QJTAAADUEGaImxC//6MsBUdzSB1N6/M\n",
              "EToCgQANaqL+FyNSBJWP5chei9Q49pYaFf35jyvBmBgBO7NAoqg0W60mi31Mrnhi8rTkzMIh2iQb\n",
              "5UivoVKEb0fssDL/ZedzTWSbMKy57jGvLbQt9sZgfg/p/iSj4TEoJo8qhB4TyV+Iyn27PK98Ow3l\n",
              "5ouQK6abteDhblG3N1Dy8bwDsM76sVFYKARe0GJzhf515OMH2+MSAyxw/c67qNZL7lr0/tur7fr3\n",
              "0tAj895kKTT07Gk/rgIVOcjliSDgrfvLh4WtAe5FZfv4t2GKaf7/n4hsLxF29ao3R/giZeIfua3Q\n",
              "dnSJ6r1+uYoInsBNnlRqyXTMLPHqgX8bTUZaL0q7INpz6GggJSzjk9svi+wq9G6+Cm1J5kCigQir\n",
              "T0qX3rMkwfhxRk3cEr+qtDkgEJR5sMj5IVwAEO6J7vzPFmBpI3sfO4laJLf7kzuzD44pJ8q46DRR\n",
              "Q4CUq24xi7T6bCYJ+Jqe5uPuNY1XwWAT4ggM0Dsg/op1dF8rlP730in6iabyZjVBbuYiCcXZhypU\n",
              "5Ds/feCP89feA4B0cfVtbRQpyeIXzihHMSxiyKs37QJFEAgYfM09VFMXnNXDDhKN+L8gFaSGCa2i\n",
              "d+/+wTCsPMFh2lfFqq8JuYrxymeRotymeTaZYPcmHzmGIErCBf5GA/UVs7Bjv73KCwe/nz/4fjFH\n",
              "6NMassR0tczEJ4l7I3I3EovYLBl3Px0aWlPo912STPhNtHZUMQNpAy7CQY55NWXtopVTnxXvZLIi\n",
              "ZyX5B4buquq4MI5cOTEPj3f4wPUX+Dl7UHDa3kl/ZUkUdNEo/ffNCVj040rxm0zNl5Ce9L1XQzr8\n",
              "Lo0DUtRlDcY6xNWBujynMXtjqOj+hdcCaYqGXxVkGMIDbHngEujuuc4GxtoQCOR0TNWVZ5ybaMoi\n",
              "ZOQ9KRISEdRH2KyOyS2FeKPKk1CA0f/rCFTnZbEvnqBsxD2u/C85EZ+avG97RQUz3QTmI+anZZY3\n",
              "SX44bsedS5Eqxi6waaMeEtdSTuO003Mf7rNIPK5QWC9zODFAHYBIh5tVkagQX4NJiLC4pvpV+umz\n",
              "4W1zLnoDQHRKY+GT58inO0P8dI6sKugcGzhDUyNaOBjQAAAAXAGeQXkf/wfrvFIPqfZ26yUL5wha\n",
              "oAAG3S64v62Ptbm+aOigjpTvYAaqO9ezj5S3Ry9pDzXsuhhknRo5MuoTugBV404F2hDoXPd+KZzq\n",
              "uQGT29AYtIJsl2+roBuxAAABFkGaRDwhkymEK//+OEGdqRLWc+wVB1eeteLx5JtQ3jOzpjA2wAZh\n",
              "U/RbZMG1nDhFDYr3mqZCe8DM4GUAph6z2EJcCFx7WpPt3IW18Ll/mj4n6F3qb3HKx/nPcEXhhhog\n",
              "tFtwVKm0BvVdqglmUY9LqaFeDYRWe9M/HTwUlFVxhfDdvsCGPiDfB+0oEQnr5i3zXmoSYtOyDuSj\n",
              "yJL9dU2PIryas59I6fxg4J+KhwPxLeIPtmdKtYAcA1nw/HCWXKv1PB80VSrJ/ivY0fgNuorAsR5v\n",
              "2kPviA9AsNhorGimT2vo0eC+y7qKbsUGeVBmsAs0d/ueMHh0+Rsl035Xb5GO1jqbHatV1Pfh8L/P\n",
              "GGE2e7S6/kg5N6MQAAAAMQGeY2pH/wfkijKKSqTQJCJ965eIRiFHvuXeHn1c9LzIbuGQiKEpBfx0\n",
              "mvr4Pl8+ljEAAACnQZpmSeEPJlMFPCv//jhAEs6gYap8/5Ok+TtWJgE4r4w/SaLFRvifSLBAkys0\n",
              "pa5ut0yglHcerY8mZkWV2kia9c4qzUxrREINL1VfV2twqqDe1V/c19CB3NObsUsDBgdWbxsgEELg\n",
              "TStXaVt5LivixwwoBnNSRHl7tGkM1ebyxiWzflDfVtdu954/jsDyiY9d+NtUyLuTeVobeMUIUxbR\n",
              "w5bbUk4hxcUAAAAaAZ6Fakf/AnskCD6zrkTWq38BWkyRqhIOGokAAACQQZqISeEPJlMFPCv//jhA\n",
              "AAvu6pjAHKLgsiZIXwOyuKd/v76lOHWxYPXxOMUJVWdb4aVPLegBSKYagcsn+G+afwEd+BMDMRfi\n",
              "HWo6vRkxC1oxT6pC1lkACwnk/BWZrLeBqwG8P0OrsMDhXIWWoqGUJ5WEV7MOAxD4//7/y95uvuU1\n",
              "rMvzjBksfz/0VIHdJgDxAAAAFgGep2pH/wBxQniPsWLefH5Uq7uX5eAAAABOQZqpSeEPJlMCF//+\n",
              "jLAAAxin4WXMOAOUaTYMZkdq82J1ZwezEEIRSm6SsUQkpLWYqSVWZihlohPRIAUuT/+fsHrovB4h\n",
              "R2WSX21cDM+mAAAAjkGazEnhDyZTAhX//jhAABfWOOgIJMRNhKaXqy7NydQcFhHsycoISx5mZ3wD\n",
              "jIxuBPA6gQHhdWk8WgcQnT+ggbcjDCFQ443DMXjYsHT6dDuiG+uoTMYW2awKDRlEQr1kOB2grvaB\n",
              "Z8z8zkDlGvHauw6SzxONgaskZHSoK/40smOXf6dB5ZWGszqYoLsEwIEAAAAmQZ7qRRE8I/8A3Nxc\n",
              "GjiX2AO0r7YDw3ZFEAGcmcRv8IApMcLBMEAAAAAZAZ8Lakf/ACO/Hv1OmACWqcFfl/qrrHzyoAAA\n",
              "AENBmw1JqEFomUwIX//+jLAABgIe24AXmfKBhpQc//oKizYn7oTk6X8VgX2kOwoA+R0cAhpX+krk\n",
              "eR4Y39NzxK1feGspAAAAxEGbMUnhClJlMCFf/jhAAC1W5GgHFihMrjDEOhPgglHzciYjMIu//PnI\n",
              "a+0RohkLOMXEo2hGypD6refGrXCoEzDU3KZDD71XbYm2zDfbqq1iaWKo7TP3UnMDxP/D7V22Qywh\n",
              "SrtDUfuPoY8cSnHDEKcXlR9osNr4Y4JjwKm4HR3TwEe4V8jAZ4Ci7sofLbH3xxEVJDLg6iTg+bVF\n",
              "u1MQ1D4xCfLng62DbQeYGIOVrxKIE4QuSv7shbB3/ALP+8XpLdVjNnEAAAAjQZ9PRTRMI/8A3Nxc\n",
              "GjiX2A9eXt+GmAA/dEXxzu9l8PaTgUEAAAAZAZ9udEf/ACOsQuvmsH1gOgBZHQhrL81KmAAAABgB\n",
              "n3BqR/8AI78fvOXRACTY553nmtDWvIAAAAAxQZtySahBaJlMCFf//jhAACw22zAJg0T7ImvPH858\n",
              "xx/lT7rZwZGBGLWMyTcfCNY/IQAAAGdBm5RJ4QpSZTBREsK//jhAACw3YNALSVy68kqUpcaBJW2S\n",
              "tnWHak7zcloAuBBMoILheC/rffUNeesPEtrhijy8HexYijm31vmkUm6yqatp16S31Ia5HZjYVFrE\n",
              "5mRGocmnRLS/bdlsAAAAFgGfs2pH/wBxQniPsWLefzV8IJ2kO6AAAABBQZu1SeEOiZTAhX/+OEAA\n",
              "WPk+0LFiyg7sV4AtZ3I7vH/XbXRgT+YtPXAXXqd6jaE3nbLo8mwicujUhEFTYqMKFeUAAABJQZvW\n",
              "SeEPJlMCF//+jLAAFkx24k6lCZLNOT6umtKwGxEvYKMYF5XbQ4+FviAO+l2gt5DSIK9K/tu+9gH0\n",
              "eGgL/8ml7Z+hr3/G9AAAAHRBm/lJ4Q8mUwIV//44QABWWI9YiMYGRPkrPkwfauoV7GuRXFVEUzN0\n",
              "4XXulD5GAcU+BWVfpUjLuDhpMLlKYgsYflojV3ADMjFFnbZWQTRVMR82JecoNd1pV8UQPWNaOv9d\n",
              "QyH6lPR/9LcR/iOL20WvYcs1IQAAACJBnhdFETwj/wDc3FwaOJfYA7Sylc0e2AC/Ap5+5Ff/vwPn\n",
              "AAAAEAGeOGpH/wAjvyEXWZRZ9gQAAABIQZo7SahBaJlMFPCv/jhAAFRJEAwXzoA20BirHkTvsx/U\n",
              "BEA/oQFsw+sUjvaI1UNhHpVNZPdq0b0gGa6N9DKC2xRtp80p4kM/AAAAFgGeWmpH/wBxe+Nv15N7\n",
              "DiJMu4ozPWAAAABJQZpcSeEKUmUwIV/+OEAAn/+PiQB5/iv3iBLA1VVInZ0C4V98V7bttNhUJYzY\n",
              "PfCrLNxd1raRJf09fqj4e0TfNm61IoT/6iyY0QAAADFBmn1J4Q6JlMCFf/44QABRops4OARgsC5m\n",
              "i0Es1CHd1pRAvBw3Ldh5hmZBGazihIalAAAATUGan0nhDyZTBRE8K//+OEAAUbEc6ANeqvqceQz7\n",
              "/loWsGbBe5vQjAhCGkX0NGJza8XH7E5Dl6U2rPKOrY89vkP4/vOgQNGYe/fqBI2AAAAAGwGevmpH\n",
              "/wBxQniPsWLegmEUBgAs+H67WZgy7gAAAExBmqBJ4Q8mUwIX//6MsAAqWMyAVPqGDhmv0LxhyfJN\n",
              "GCHHH0VjMaDDdt8PUTk1UcZK+nugaAXfCELXznn9oFsRNsehTR4mLWbkqB4xAAAAR0Gaw0nhDyZT\n",
              "Ahf//oywACpsGEuvNAAhfff81o4WLLH/7rn0+Mki15Pl3wCIRcvyuvW6MOVaP9qQrNePFGPXDZ9T\n",
              "9n2LQxGwAAAAHEGe4UURPCP/ANzcXBo4l9gDtLiQb2LmNbQBDFkAAAAZAZ8Cakf/ACO/JlpevAET\n",
              "Fvfco/h4FRwhnwAAADRBmwRJqEFomUwIZ//+nhAAKfmg8ARHTMc8ZruMPAT54//2TTAK2+9seOPt\n",
              "AdbtIzm58IuBAAAApEGbKEnhClJlMCGf/p4QAFPxuOAK368Fo8LrwL2w13BqwjwQMCP/VwyBhPDH\n",
              "KN8vOq5MR7SYphxln9WG4RksZoIhuHAMdP8SI1nSddhzg/QffA1gBXiZnq/xnQj127GJTn88E73W\n",
              "BzQmGFfWrzkljNfUdGQFNzQ30rZW9mhJtd4Pm/5epNxCj0nZZF2Z0v+qcInMM8H5ZSkRMUNId8qZ\n",
              "If28PGCxAAAAMEGfRkU0TCP/ANzcXBo4l9juoF0VlQR+rQAbSAp7eff7BHclUKICIBZIIp4RyXks\n",
              "4QAAABgBn2V0R/8AI6xNmE64ALqL03ogNffTwVMAAAAYAZ9nakf/ACs5j57umK8OgBrcrmlFrjFB\n",
              "AAAAO0GbbEmoQWiZTAhf//6MsABUsdtgE19QebSiBLrHuLi9r8saHvHbdpjvl76zQW+W+y4lEYmU\n",
              "uazV8HTAAAAAHUGfikURLCP/ANzcXBo4l9jq5wFmHJLBBNiFkk45AAAADwGfqXRH/wArIxM3H6Ta\n",
              "JgAAAA0Bn6tqR/8AI78eKPuAAAAAMkGbsEmoQWyZTAhf//6MsABUsdtgE1cl00UdWnGTrsZKbLMP\n",
              "JcyVtcOH1IV6sPKx+QVNAAAAGUGfzkUVLCP/ANzcXBo4l9gP9nUfAabIGzEAAAAMAZ/tdEf/ACOs\n",
              "QCG/AAAADgGf72pH/wArKk27z4LaAAAASUGb80moQWyZTAhf//6MsABUsfowBtVqMaukBL0G8D9L\n",
              "Nq3jF1xsvkTLojWNq3s3/UgBcKND75vhqYG50C1oIrUx6oDdsCB1EbAAAAAlQZ4RRRUsI/8A3Nxc\n",
              "GjiX2OrnAWxjCABZuxTUD+0PCSoMMSD0gQAAABUBnjJqR/8AI78mbSHABYs7ln0zUf4AAABNQZo3\n",
              "SahBbJlMCF///oywAFSy3RANSrUIcZlOE4wNnP/ccGjkaUs0WXyg/Utjk6VAOq8SEX5G8zAFEJ7f\n",
              "a6cd6KJ7G41CvITyxY3AiXgAAAAmQZ5VRRUsI/8A3NxcGjiX2OrnAW1KkuTcTB8gAnGw+ayuVWeg\n",
              "KSEAAAARAZ50dEf/ACs+uzAgvhoig7oAAAAYAZ52akf/ACO/Jqa2Pb9ABMl/JMk3msUPAAAAWEGa\n",
              "ekmoQWyZTAhf//6MsAArpgGoW3gKB3hQaUONsprHu8sIKmqSAhg2pUxFxJj6iXNBrXOwDLYDF3Sd\n",
              "DbzbzzLev2SkI8cgldngoj4yPk2g7Cf9yDHeM+EAAAAjQZ6YRRUsI/8A3NxcGjiX2A/25uV+toAS\n",
              "Dt+UJ+TcDxeOAYsAAAAYAZ65akf/ACO/Jm/fgAJWnPbd+9P9FUf5AAAASkGavUmoQWyZTAhf//6M\n",
              "sAAqTMuKNi+ADpHaADhunSo8nw20SEde7pjeoSs8ua2Ajb40p1AYHLy3cTC0dfMQ3aGlmcAwzd3d\n",
              "iGGVAAAAJUGe20UVLCP/ANzcXBo4l9gP9tNRoyOxwAH84uMkA4IaD+KAi4EAAAAZAZ78akf/ACO/\n",
              "Jm9G4AJ2KtnFq0MaJ0y5xwAAAHFBmuFJqEFsmUwIX//+jLAAUnLy0ACF3Wniu67bc1cXWHJDx0Qw\n",
              "4BHHeWJKS3ObFrQgQNesehgA1Dv3/u2bkfaNl/UPcoGyZ6l+LGCihEjPVL1gRzlz5hokObo0QNN3\n",
              "ig4zx2T+R7+EUV3nfRbC9P6MGAAAACNBnx9FFSwj/wDc3FwaOJfYyUEgASqoVfjy9n3KAiX19gA2\n",
              "YAAAABEBnz50R/8AKh69dxSnT2AHBQAAAA0BnyBqR/8AI0vM8Q34AAAAMkGbJEmoQWyZTAhX//44\n",
              "QAE9ttmAOTXOejoapCpVx/RKAhHU46m0eESLZWIpmZZ8NAFlAAAAGUGfQkUVLCP/ANzcXBo4l9jD\n",
              "mYPeD0gICkgAAAAOAZ9jakf/ACoZ1m824tsAAAAwQZtlSahBbJlMCF///oywAFKYn/GzgAr4a2yy\n",
              "wpY/YjYixy2uzctAyvK9wbU/r4O7AAAAM0Gbh0nhClJlMFFSwv/+jLAAUnLCEAR7rMhIUdxVp8+B\n",
              "wECjYearh745sUM0Ksj1z0aiRwAAABYBn6ZqR/8AcUJ4j7UAgUGcDK3ySQEHAAAAPUGbqknhDomU\n",
              "wIZ//p4QAFGydGAK368EMwYYPXZKjdXlC2yve9ljYGpH31m6YYMVy9bv5ez+PXNhe5bQpIAAAAAc\n",
              "QZ/IRRU8I/8A3NxcGjiX2JvOmA2UxAZ0UCwIOAAAAA8Bn+lqR/8AKgmoKfsfYvMAAAAzQZvuSahB\n",
              "aJlMCGf//p4QACjsceTbhxADN86TzkUqBVvvk6/GsUYYseKLrUjb8SErogxYAAAALEGeDEURLCP/\n",
              "ANzcXBo4l9icqVjhizhAA2Yd8BOhFGDXZ6FYEecV8jTE7gMWAAAAGAGeK3RH/wAo4xxPJFsoAFua\n",
              "agt+o4SggQAAABgBni1qR/8AKPnaIUztlAAsWEhKWKxuUEEAAAByQZoySahBbJlMCF///oywAFUC\n",
              "u8XmAFgKXJzge3QLHFGmpKEfdY0HkbJl69lPIedxeGNzh4zGg3qutmm9m6nkAg+Nu8uNMHDSVaHQ\n",
              "PHGf95YAIeeVXmVqPAYwIll5M+OFgxeOPQQGKFFafScwmLiz6RixAAAAHEGeUEUVLCP/ANzcXBo4\n",
              "l9juxab5x3UcQFGDS4gAAAAcAZ5vdEf/ACxe0A4HNiPFy4gATNNbMlrlkvZUwAAAABMBnnFqR/8A\n",
              "LGQHYdPnPVuoFwetAAAALkGadkmoQWyZTAhf//6MsABU1M/748wAjAyznxvY/ASiN4UPyhSyi+9l\n",
              "/N6GEbAAAAAcQZ6URRUsI/8A3NxcGjiX2OsSVGyuJYlBiYcrYAAAABkBnrN0R/8AKp+wxQATtzoC\n",
              "sX/DKPbJkkXBAAAADwGetWpH/wAo+dohGRcqRgAAACVBmrpJqEFsmUwIX//+jLAAKTsAiwAbdAtc\n",
              "BuWjRoizJs5WsMM/AAAAGEGe2EUVLCP/ANzcXBo4l9icqVjgdZAr4QAAAA8Bnvd0R/8AKOMcTrJO\n",
              "VIwAAAAPAZ75akf/ACj52iEZFypHAAAAP0Ga/kmoQWyZTAhX//44QAFGs46AEsitBMuMgcsHnlD5\n",
              "bOjrjgBt7guQtNw3i0J2vFf4jffWkM/M30W7Emcb8AAAABxBnxxFFSwj/wDc3FwaOJfY7puPnhwK\n",
              "V11p/imhAAAAEQGfO3RH/wAqHjjRGXIcvRixAAAAEQGfPWpH/wArOepy/3gbTJFwAAAARUGbIkmo\n",
              "QWyZTAhH//3hAAT5kKygAtQ5SanYXtZEEhVw/9sZlXAVv9if7Hpa76aFsivfPk3R5dSP+THAnf9y\n",
              "/aRWVmvC8gAAACpBn0BFFSwj/wDc3FwaOJfY9K6QASQxaw0Fm0T55shN+3M3qReLpYVABl0AAAAW\n",
              "AZ9/dEf/ACsNxBOQAleeqmbXbVaZLwAAAB0Bn2FqR/8AKysZgA+iiDdgTdODsjCU2v5wIHMccQAA\n",
              "AB5Bm2NJqEFsmUwI//yEABLYPMMAB3zZnsvB7+ysKSAAAAeObW9vdgAAAGxtdmhkAAAAAAAAAAAA\n",
              "AAAAAAAD6AAAB9AAAQAAAQAAAAAAAAAAAAAAAAEAAAAAAAAAAAAAAAAAAAABAAAAAAAAAAAAAAAA\n",
              "AABAAAAAAAAAAAAAAAAAAAAAAAAAAAAAAAAAAAAAAAAAAgAABrh0cmFrAAAAXHRraGQAAAADAAAA\n",
              "AAAAAAAAAAABAAAAAAAAB9AAAAAAAAAAAAAAAAAAAAAAAAEAAAAAAAAAAAAAAAAAAAABAAAAAAAA\n",
              "AAAAAAAAAABAAAAAAbAAAAEgAAAAAAAkZWR0cwAAABxlbHN0AAAAAAAAAAEAAAfQAAACAAABAAAA\n",
              "AAYwbWRpYQAAACBtZGhkAAAAAAAAAAAAAAAAAAAyAAAAZABVxAAAAAAALWhkbHIAAAAAAAAAAHZp\n",
              "ZGUAAAAAAAAAAAAAAABWaWRlb0hhbmRsZXIAAAAF221pbmYAAAAUdm1oZAAAAAEAAAAAAAAAAAAA\n",
              "ACRkaW5mAAAAHGRyZWYAAAAAAAAAAQAAAAx1cmwgAAAAAQAABZtzdGJsAAAAs3N0c2QAAAAAAAAA\n",
              "AQAAAKNhdmMxAAAAAAAAAAEAAAAAAAAAAAAAAAAAAAAAAbABIABIAAAASAAAAAAAAAABAAAAAAAA\n",
              "AAAAAAAAAAAAAAAAAAAAAAAAAAAAAAAAAAAAGP//AAAAMWF2Y0MBZAAe/+EAGGdkAB6s2UGwloQA\n",
              "AAMABAAAAwGQPFi2WAEABmjr48siwAAAABx1dWlka2hA8l8kT8W6OaUbzwMj8wAAAAAAAAAYc3R0\n",
              "cwAAAAAAAAABAAAAZAAAAQAAAAAUc3RzcwAAAAAAAAABAAAAAQAAAuBjdHRzAAAAAAAAAFoAAAAB\n",
              "AAACAAAAAAEAAAMAAAAAAQAAAQAAAAABAAADAAAAAAEAAAEAAAAAAQAAAwAAAAABAAABAAAAAAEA\n",
              "AAMAAAAAAQAAAQAAAAABAAACAAAAAAEAAAQAAAAAAgAAAQAAAAABAAACAAAAAAEAAAUAAAAAAQAA\n",
              "AgAAAAABAAAAAAAAAAEAAAEAAAAAAQAAAgAAAAABAAADAAAAAAEAAAEAAAAAAgAAAgAAAAABAAAE\n",
              "AAAAAAIAAAEAAAAAAQAAAwAAAAABAAABAAAAAAIAAAIAAAAAAQAAAwAAAAABAAABAAAAAAEAAAIA\n",
              "AAAAAQAABAAAAAACAAABAAAAAAEAAAIAAAAAAQAABQAAAAABAAACAAAAAAEAAAAAAAAAAQAAAQAA\n",
              "AAABAAAFAAAAAAEAAAIAAAAAAQAAAAAAAAABAAABAAAAAAEAAAUAAAAAAQAAAgAAAAABAAAAAAAA\n",
              "AAEAAAEAAAAAAQAABAAAAAACAAABAAAAAAEAAAUAAAAAAQAAAgAAAAABAAAAAAAAAAEAAAEAAAAA\n",
              "AQAABAAAAAACAAABAAAAAAEAAAQAAAAAAgAAAQAAAAABAAAFAAAAAAEAAAIAAAAAAQAAAAAAAAAB\n",
              "AAABAAAAAAEAAAQAAAAAAgAAAQAAAAABAAACAAAAAAEAAAMAAAAAAQAAAQAAAAABAAAEAAAAAAIA\n",
              "AAEAAAAAAQAABQAAAAABAAACAAAAAAEAAAAAAAAAAQAAAQAAAAABAAAFAAAAAAEAAAIAAAAAAQAA\n",
              "AAAAAAABAAABAAAAAAEAAAUAAAAAAQAAAgAAAAABAAAAAAAAAAEAAAEAAAAAAQAABQAAAAABAAAC\n",
              "AAAAAAEAAAAAAAAAAQAAAQAAAAABAAAFAAAAAAEAAAIAAAAAAQAAAAAAAAABAAABAAAAAAEAAAUA\n",
              "AAAAAQAAAgAAAAABAAAAAAAAAAEAAAEAAAAAAQAAAgAAAAAcc3RzYwAAAAAAAAABAAAAAQAAAGQA\n",
              "AAABAAABpHN0c3oAAAAAAAAAAAAAAGQAADS9AAADVAAAAGAAAAEaAAAANQAAAKsAAAAeAAAAlAAA\n",
              "ABoAAABSAAAAkgAAACoAAAAdAAAARwAAAMgAAAAnAAAAHQAAABwAAAA1AAAAawAAABoAAABFAAAA\n",
              "TQAAAHgAAAAmAAAAFAAAAEwAAAAaAAAATQAAADUAAABRAAAAHwAAAFAAAABLAAAAIAAAAB0AAAA4\n",
              "AAAAqAAAADQAAAAcAAAAHAAAAD8AAAAhAAAAEwAAABEAAAA2AAAAHQAAABAAAAASAAAATQAAACkA\n",
              "AAAZAAAAUQAAACoAAAAVAAAAHAAAAFwAAAAnAAAAHAAAAE4AAAApAAAAHQAAAHUAAAAnAAAAFQAA\n",
              "ABEAAAA2AAAAHQAAABIAAAA0AAAANwAAABoAAABBAAAAIAAAABMAAAA3AAAAMAAAABwAAAAcAAAA\n",
              "dgAAACAAAAAgAAAAFwAAADIAAAAgAAAAHQAAABMAAAApAAAAHAAAABMAAAATAAAAQwAAACAAAAAV\n",
              "AAAAFQAAAEkAAAAuAAAAGgAAACEAAAAiAAAAFHN0Y28AAAAAAAAAAQAAACwAAABidWR0YQAAAFpt\n",
              "ZXRhAAAAAAAAACFoZGxyAAAAAAAAAABtZGlyYXBwbAAAAAAAAAAAAAAAAC1pbHN0AAAAJal0b28A\n",
              "AAAdZGF0YQAAAAEAAAAATGF2ZjU3LjgzLjEwMA==\n",
              "\">\n",
              "  Your browser does not support the video tag.\n",
              "</video>"
            ]
          },
          "metadata": {
            "tags": []
          }
        }
      ]
    }
  ]
}